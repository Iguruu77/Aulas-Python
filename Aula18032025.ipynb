{
  "cells": [
    {
      "cell_type": "markdown",
      "metadata": {
        "id": "view-in-github",
        "colab_type": "text"
      },
      "source": [
        "<a href=\"https://colab.research.google.com/github/Iguruu77/Aulas-Python/blob/main/Aula-Pythin-18/03.ipynb\" target=\"_parent\"><img src=\"https://colab.research.google.com/assets/colab-badge.svg\" alt=\"Open In Colab\"/></a>"
      ]
    },
    {
      "cell_type": "markdown",
      "source": [
        "1 - Pede para o usuário digitar um número inteiro e informa se é par ou impar:"
      ],
      "metadata": {
        "id": "Cso8Q88mMBZh"
      }
    },
    {
      "cell_type": "code",
      "source": [
        "num = int(input('Digite um número'))\n",
        "if num % 2 == 0:\n",
        "  print('Par')\n",
        "else:\n",
        "  print('Impar')"
      ],
      "metadata": {
        "id": "7JQ4LYteRVmt",
        "outputId": "7571bd98-0804-42b1-fa3b-d215e1527380",
        "colab": {
          "base_uri": "https://localhost:8080/"
        }
      },
      "execution_count": 11,
      "outputs": [
        {
          "output_type": "stream",
          "name": "stdout",
          "text": [
            "Digite um número2\n",
            "Par\n"
          ]
        }
      ]
    },
    {
      "cell_type": "markdown",
      "source": [
        "2 - Solicita dois números e informa qual é o maior:"
      ],
      "metadata": {
        "id": "CUhA50KhS9kd"
      }
    },
    {
      "cell_type": "code",
      "source": [
        "num1 = int(input('Digite um numero'))\n",
        "num2 = int(input('Digite outro numero'))\n",
        "\n",
        "if num1 > num2:\n",
        "  print(f'O número {num1} é maior')\n",
        "elif num1 < num2:\n",
        "  print(f'O número {num2} é maior')\n",
        "else:\n",
        "  print('Eles são iguais')"
      ],
      "metadata": {
        "id": "WUKn6mXJR_Ad",
        "outputId": "827c61ca-87b9-40d4-fc76-46127e2889c0",
        "colab": {
          "base_uri": "https://localhost:8080/"
        }
      },
      "execution_count": 15,
      "outputs": [
        {
          "output_type": "stream",
          "name": "stdout",
          "text": [
            "Digite um numero2\n",
            "Digite outro numero2\n",
            "Eles são iguais\n"
          ]
        }
      ]
    },
    {
      "cell_type": "markdown",
      "source": [
        "3 - Solicita as 3 notas de um indivíduo, calcula média e:\n",
        "\n",
        "        - Aprovado: Se a nota for igual ou superior a 7\n",
        "\n",
        "        - Em recuperação: Se a nota for menor que 7, mas maior ou igual a 4\n",
        "\n",
        "        - Reprovado: Se a nota for menor que 4"
      ],
      "metadata": {
        "id": "KJ1U4alPTG5e"
      }
    },
    {
      "cell_type": "code",
      "source": [],
      "metadata": {
        "id": "eo57hb3zSrD-"
      },
      "execution_count": null,
      "outputs": []
    },
    {
      "cell_type": "markdown",
      "source": [
        "O que aconteceria se quiséssemos exibir os números de 1 a 10 na tela? Como faríamos isso sem escrever print(1), print (2), ..., print(10) manualmente?"
      ],
      "metadata": {
        "id": "PEpNNfsTTgSs"
      }
    },
    {
      "cell_type": "markdown",
      "source": [
        "O while repete uma ação enquanto uma condição for verdadeira."
      ],
      "metadata": {
        "id": "GZCpQM3bT4y3"
      }
    },
    {
      "cell_type": "code",
      "source": [
        "#Contador simples\n",
        "\n",
        "contador = 0\n",
        "while contador < 10:\n",
        "  contador = contador + 1\n",
        "  print(contador)"
      ],
      "metadata": {
        "id": "4fWsE8adUba0",
        "outputId": "34349cd5-2572-4076-c154-baef230ad49b",
        "colab": {
          "base_uri": "https://localhost:8080/"
        }
      },
      "execution_count": 28,
      "outputs": [
        {
          "output_type": "stream",
          "name": "stdout",
          "text": [
            "1\n",
            "2\n",
            "3\n",
            "4\n",
            "5\n",
            "6\n",
            "7\n",
            "8\n",
            "9\n",
            "10\n"
          ]
        }
      ]
    },
    {
      "cell_type": "markdown",
      "source": [
        "# Exercício\n",
        "\n",
        "*   Modifique o código para contar de 1 a 20."
      ],
      "metadata": {
        "id": "qcsVECFVVaJ9"
      }
    },
    {
      "cell_type": "code",
      "source": [
        "#Contador de 1 a 20\n",
        "\n",
        "contador = 0\n",
        "while contador < 20:\n",
        "  contador = contador + 1\n",
        "  print(contador)"
      ],
      "metadata": {
        "id": "Cc_coCmpVeQT",
        "outputId": "c2a33398-cb27-4d52-aed7-3afdca09ef88",
        "colab": {
          "base_uri": "https://localhost:8080/"
        }
      },
      "execution_count": 34,
      "outputs": [
        {
          "output_type": "stream",
          "name": "stdout",
          "text": [
            "1\n",
            "2\n",
            "3\n",
            "4\n",
            "5\n",
            "6\n",
            "7\n",
            "8\n",
            "9\n",
            "10\n",
            "11\n",
            "12\n",
            "13\n",
            "14\n",
            "15\n",
            "16\n",
            "17\n",
            "18\n",
            "19\n",
            "20\n"
          ]
        }
      ]
    },
    {
      "cell_type": "markdown",
      "source": [
        "*   Faça o código contar de 10 a 1."
      ],
      "metadata": {
        "id": "Da_isk5fbVeb"
      }
    },
    {
      "cell_type": "code",
      "source": [
        "#Contador de 10 a 1\n",
        "\n",
        "cont = 10\n",
        "\n",
        "while cont > 0:\n",
        "  print (cont)\n",
        "  cont -= 1"
      ],
      "metadata": {
        "id": "u2S-g5rVWow9",
        "outputId": "c9378eaf-7dd5-4442-9a85-0c0809fed039",
        "colab": {
          "base_uri": "https://localhost:8080/"
        }
      },
      "execution_count": 39,
      "outputs": [
        {
          "output_type": "stream",
          "name": "stdout",
          "text": [
            "10\n",
            "9\n",
            "8\n",
            "7\n",
            "6\n",
            "5\n",
            "4\n",
            "3\n",
            "2\n",
            "1\n"
          ]
        }
      ]
    },
    {
      "cell_type": "markdown",
      "source": [
        "# Desafio\n",
        "\n",
        "*   Escreva um programa que imprime apenjas os números pares de 1 a 10 usando while."
      ],
      "metadata": {
        "id": "AeSdAOGXbcRJ"
      }
    },
    {
      "cell_type": "code",
      "source": [
        "cont = 0\n",
        "while cont < 10:\n",
        "  cont += 1\n",
        "  if cont % 2 == 0:\n",
        "    print(cont)"
      ],
      "metadata": {
        "id": "FI4QshBaX5Mi",
        "outputId": "57c077c7-f94f-4c5d-d928-b760712747a5",
        "colab": {
          "base_uri": "https://localhost:8080/"
        }
      },
      "execution_count": 41,
      "outputs": [
        {
          "output_type": "stream",
          "name": "stdout",
          "text": [
            "2\n",
            "4\n",
            "6\n",
            "8\n",
            "10\n"
          ]
        }
      ]
    },
    {
      "cell_type": "code",
      "source": [
        "#Pede um número, Retorna o seu quadrado\n",
        "#O programa encerra quando digitar 0\n",
        "#Use While\n",
        "\n",
        "num = int(input('Digite um número'))\n",
        "\n",
        "while num != 0:\n",
        "  print (num**2)\n",
        "  num = int(input('Digite um número, novamente'))"
      ],
      "metadata": {
        "id": "05p3JnWBY6W8",
        "outputId": "10ba16f0-5b03-429e-8668-e95ec514ed29",
        "colab": {
          "base_uri": "https://localhost:8080/"
        }
      },
      "execution_count": 42,
      "outputs": [
        {
          "name": "stdout",
          "output_type": "stream",
          "text": [
            "Digite um número5\n",
            "25\n",
            "Digite um número, novamente6\n",
            "36\n",
            "Digite um número, novamente7\n",
            "49\n",
            "Digite um número, novamente0\n"
          ]
        }
      ]
    },
    {
      "cell_type": "code",
      "source": [
        "while True:\n",
        "  num = int(input('Insira um número'))\n",
        "  if num == 0: break\n",
        "  else: print(num**2)"
      ],
      "metadata": {
        "id": "3vDYf3JVb3Zl",
        "outputId": "11150223-e2e6-490f-811b-7355c2ef33b9",
        "colab": {
          "base_uri": "https://localhost:8080/"
        }
      },
      "execution_count": 43,
      "outputs": [
        {
          "name": "stdout",
          "output_type": "stream",
          "text": [
            "Insira um número5\n",
            "25\n",
            "Insira um número6\n",
            "36\n",
            "Insira um número7\n",
            "49\n",
            "Insira um número0\n"
          ]
        }
      ]
    },
    {
      "cell_type": "markdown",
      "source": [
        "O for é mais adequado quando sabemos quantas vezes queremos repetir uma ação."
      ],
      "metadata": {
        "id": "YXKqqKrNdLmK"
      }
    },
    {
      "cell_type": "markdown",
      "source": [
        "O range(início, fim, passo) gera número dentro de um intervalo."
      ],
      "metadata": {
        "id": "G56iPGQFdg3L"
      }
    },
    {
      "cell_type": "code",
      "source": [
        "#Contador com for\n",
        "\n",
        "for numero in range(1,11):\n",
        "  print(numero)"
      ],
      "metadata": {
        "id": "_lZSCPuEdmPy",
        "outputId": "5f183cc6-481d-4a7a-89fb-56c960c83743",
        "colab": {
          "base_uri": "https://localhost:8080/"
        }
      },
      "execution_count": 44,
      "outputs": [
        {
          "output_type": "stream",
          "name": "stdout",
          "text": [
            "1\n",
            "2\n",
            "3\n",
            "4\n",
            "5\n",
            "6\n",
            "7\n",
            "8\n",
            "9\n",
            "10\n"
          ]
        }
      ]
    },
    {
      "cell_type": "code",
      "source": [
        "#Contagem Regressiva\n",
        "for numero in range(10, 0, -1):\n",
        "  print(numero)"
      ],
      "metadata": {
        "id": "aqDH8w-vdvOC",
        "outputId": "2c77906f-8dda-4202-9b7f-0af8b2d56604",
        "colab": {
          "base_uri": "https://localhost:8080/"
        }
      },
      "execution_count": 45,
      "outputs": [
        {
          "output_type": "stream",
          "name": "stdout",
          "text": [
            "10\n",
            "9\n",
            "8\n",
            "7\n",
            "6\n",
            "5\n",
            "4\n",
            "3\n",
            "2\n",
            "1\n"
          ]
        }
      ]
    },
    {
      "cell_type": "markdown",
      "source": [
        "# Exercício\n",
        "\n",
        "*   Modifique o código para contar de 1 a 20."
      ],
      "metadata": {
        "id": "nv8sfIkzd9Pz"
      }
    },
    {
      "cell_type": "code",
      "source": [
        "#Contador de 1 a 20\n",
        "\n",
        "for numero in range(1,21):\n",
        "  print(numero)"
      ],
      "metadata": {
        "id": "HAUbFo_NeTlr",
        "outputId": "a3c7b808-650c-40bf-acb8-70054bf5f8d5",
        "colab": {
          "base_uri": "https://localhost:8080/"
        }
      },
      "execution_count": 46,
      "outputs": [
        {
          "output_type": "stream",
          "name": "stdout",
          "text": [
            "1\n",
            "2\n",
            "3\n",
            "4\n",
            "5\n",
            "6\n",
            "7\n",
            "8\n",
            "9\n",
            "10\n",
            "11\n",
            "12\n",
            "13\n",
            "14\n",
            "15\n",
            "16\n",
            "17\n",
            "18\n",
            "19\n",
            "20\n"
          ]
        }
      ]
    },
    {
      "cell_type": "markdown",
      "source": [
        "*   Faça o código para retornar a soma dos números de 1 a 100."
      ],
      "metadata": {
        "id": "myU5bWYherAU"
      }
    },
    {
      "cell_type": "code",
      "source": [
        "#Contador a soma dos números de 1 a 100\n",
        "\n",
        "soma = 0\n",
        "\n",
        "for numero in range(1,101):\n",
        "  soma += numero\n",
        "\n",
        "print(soma)"
      ],
      "metadata": {
        "id": "-f9R4LEnevXc",
        "outputId": "55ea767c-0f81-49f6-cbb2-9995b6cb3a55",
        "colab": {
          "base_uri": "https://localhost:8080/"
        }
      },
      "execution_count": 48,
      "outputs": [
        {
          "output_type": "stream",
          "name": "stdout",
          "text": [
            "5050\n"
          ]
        }
      ]
    },
    {
      "cell_type": "markdown",
      "source": [
        "*   Faça o código contar apenas os números  ímpares de 1 a 10."
      ],
      "metadata": {
        "id": "gRZsBpSoetTt"
      }
    },
    {
      "cell_type": "code",
      "source": [
        "#Contador de números ímpares de 1 a 10.\n",
        "\n",
        "for numero in range (1, 11):\n",
        "  if numero % 2 !=0:\n",
        "    print(numero)"
      ],
      "metadata": {
        "id": "leREtWl5ev-0",
        "outputId": "e2b1eaf5-5b0f-4e8e-83a4-fc2e6104e915",
        "colab": {
          "base_uri": "https://localhost:8080/"
        }
      },
      "execution_count": 49,
      "outputs": [
        {
          "output_type": "stream",
          "name": "stdout",
          "text": [
            "1\n",
            "3\n",
            "5\n",
            "7\n",
            "9\n"
          ]
        }
      ]
    },
    {
      "cell_type": "markdown",
      "source": [
        "# Quando usar while e quando usar for?"
      ],
      "metadata": {
        "id": "yc4lAAYBhWfY"
      }
    },
    {
      "cell_type": "markdown",
      "source": [
        "While:\n",
        "\n",
        "*   Usa quando não sabemos exatamente quantas repetições serão feitas\n",
        "*   Precisa de um contador manual\n",
        "\n",
        "For:\n",
        "\n",
        "*   Usa quando sabemos quantas vezes repetir\n",
        "*   Usa range() para criar contagens\n",
        "\n"
      ],
      "metadata": {
        "id": "BGtjuJBbhgVQ"
      }
    },
    {
      "cell_type": "code",
      "source": [
        "import random\n",
        "\n",
        "numero = random.randint(0, 100)\n",
        "print(numero)"
      ],
      "metadata": {
        "id": "SysBItEwiTEJ",
        "outputId": "a57cb0d7-d500-4e5b-c5b1-fc7cfbef51f1",
        "colab": {
          "base_uri": "https://localhost:8080/"
        }
      },
      "execution_count": 62,
      "outputs": [
        {
          "output_type": "stream",
          "name": "stdout",
          "text": [
            "40\n"
          ]
        }
      ]
    },
    {
      "cell_type": "markdown",
      "source": [
        "# Desafios:"
      ],
      "metadata": {
        "id": "fCU-PklDisoK"
      }
    },
    {
      "cell_type": "markdown",
      "source": [
        "*   Tabuada - Crie um código que solicita um número e retorna sua tabuada de multiplicação.\n",
        "*   Faça um programa que peça um número ao usuário e exiba se ele é primo ou não usando um laço.\n",
        "*   Faça um jogo de adivinhar número.\n",
        "   O programa gera um número aleatório entre 0 e 100\n",
        "\n",
        "   Solicita ao usuário tentar acertar o número gerado.\n",
        "\n",
        "   Caso o jogador erre, é convidado a tentar mais uma vez\n",
        "   \n",
        "   Caso acerte, o jogo informa em quantas tentativas ele acertou\n",
        "\n",
        "\n",
        "\n"
      ],
      "metadata": {
        "id": "o95clsFIix_q"
      }
    },
    {
      "cell_type": "code",
      "source": [],
      "metadata": {
        "id": "6SgHm3dQkEs9"
      },
      "execution_count": null,
      "outputs": []
    }
  ],
  "metadata": {
    "colab": {
      "name": "Olá, este é o Colaboratory",
      "provenance": [],
      "include_colab_link": true
    },
    "kernelspec": {
      "display_name": "Python 3",
      "name": "python3"
    }
  },
  "nbformat": 4,
  "nbformat_minor": 0
}
