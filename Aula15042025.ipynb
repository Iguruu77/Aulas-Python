{
  "cells": [
    {
      "cell_type": "markdown",
      "metadata": {
        "id": "view-in-github",
        "colab_type": "text"
      },
      "source": [
        "<a href=\"https://colab.research.google.com/github/Iguruu77/Aulas-Python/blob/main/Aula150425.ipynb\" target=\"_parent\"><img src=\"https://colab.research.google.com/assets/colab-badge.svg\" alt=\"Open In Colab\"/></a>"
      ]
    },
    {
      "cell_type": "markdown",
      "source": [
        "É uma forma concisa e elegante de criar listas em Python a partir de interáveis (como lista, ranges, etc.), aplicando transformações e condições."
      ],
      "metadata": {
        "id": "tc7aWlaiabJE"
      }
    },
    {
      "cell_type": "code",
      "source": [
        "lista = [ação for x in lista2 condição]"
      ],
      "metadata": {
        "id": "tI0GEZ1ya6U9"
      },
      "execution_count": null,
      "outputs": []
    },
    {
      "cell_type": "code",
      "source": [
        "notas = [8, 9, 4, 3, 6]\n",
        "#As notas maiores que 7\n",
        "maiores = [nota for nota in notas if nota > 7]\n",
        "print(maiores)"
      ],
      "metadata": {
        "id": "WegJ7aCnZtMt",
        "outputId": "e846a6f9-4d3c-4e12-c5b9-2a0758b8062b",
        "colab": {
          "base_uri": "https://localhost:8080/"
        }
      },
      "execution_count": 2,
      "outputs": [
        {
          "output_type": "stream",
          "name": "stdout",
          "text": [
            "[8, 9]\n"
          ]
        }
      ]
    },
    {
      "cell_type": "code",
      "source": [
        "#Que exibe as notas menores que 5\n",
        "notas = [8, 9, 4, 3, 6]\n",
        "menores = [nota for nota in notas if nota < 5]\n",
        "print(menores)"
      ],
      "metadata": {
        "id": "Bp_Y0fkManKM",
        "outputId": "c5d456ad-bc4e-463a-ec4a-b428a410ebb9",
        "colab": {
          "base_uri": "https://localhost:8080/"
        }
      },
      "execution_count": 1,
      "outputs": [
        {
          "output_type": "stream",
          "name": "stdout",
          "text": [
            "[4, 3]\n"
          ]
        }
      ]
    },
    {
      "cell_type": "code",
      "source": [
        "#Criar uma lista com os quadrados dos números de 0 a 9\n",
        "quadrados = [x**2 for x in range(10)]\n",
        "print(quadrados)"
      ],
      "metadata": {
        "id": "Pzt8y6g4a8jM",
        "outputId": "be65742d-381a-4d15-d9b5-f3f0319e1ded",
        "colab": {
          "base_uri": "https://localhost:8080/"
        }
      },
      "execution_count": 4,
      "outputs": [
        {
          "output_type": "stream",
          "name": "stdout",
          "text": [
            "[0, 1, 4, 9, 16, 25, 36, 49, 64, 81]\n"
          ]
        }
      ]
    },
    {
      "cell_type": "code",
      "source": [
        "#List Comprehension com Condicional\n",
        "#Filtrar apenas os números pares de uma lista\n",
        "numeros = [1, 2, 3, 4, 5, 6]\n",
        "pares = [n for n in numeros if n % 2 == 0]\n",
        "print(pares)"
      ],
      "metadata": {
        "id": "MHXlXp0PbNIc",
        "outputId": "d6706dcf-638f-41cf-ce97-c90baf21d255",
        "colab": {
          "base_uri": "https://localhost:8080/"
        }
      },
      "execution_count": 5,
      "outputs": [
        {
          "output_type": "stream",
          "name": "stdout",
          "text": [
            "[2, 4, 6]\n"
          ]
        }
      ]
    },
    {
      "cell_type": "code",
      "source": [
        "#Strings\n",
        "nome = 'Pablo'\n",
        "for letra in nome:\n",
        "  print(letra)\n",
        "\n",
        "  print(len(nome)) #Imprime o tamanho da string\n",
        "  print(nome.upper()) #Todos os caracteres maiúsculos\n",
        "  print(nome.lower()) #Todos os caracteres minusculos"
      ],
      "metadata": {
        "id": "VR2nJtj8d8ad"
      },
      "execution_count": null,
      "outputs": []
    },
    {
      "cell_type": "code",
      "source": [
        "nomes = ['João', 'Ana', 'Epaminondas', 'Godofredo', 'Lair', 'Setembrino']\n",
        "\n",
        "maisDe5 = [nomes for nomes in nomes if len(nomes) > 4]\n",
        "print(maisDe5)"
      ],
      "metadata": {
        "id": "NhV24X1PezWc",
        "outputId": "6c0736b7-0db6-4e6c-c824-6829a0e13b15",
        "colab": {
          "base_uri": "https://localhost:8080/"
        }
      },
      "execution_count": 7,
      "outputs": [
        {
          "output_type": "stream",
          "name": "stdout",
          "text": [
            "['Epaminondas', 'Godofredo', 'Setembrino']\n"
          ]
        }
      ]
    },
    {
      "cell_type": "code",
      "source": [
        "#Caixa alta os nomes com 4 letras ou menos\n",
        "caixaAlta = [nome.upper() for nome in nomes if len(nome) < 5]\n",
        "print(caixaAlta)"
      ],
      "metadata": {
        "id": "4zRyGTXrgzra",
        "outputId": "405223f1-df71-4b39-b946-c70d5f245123",
        "colab": {
          "base_uri": "https://localhost:8080/"
        }
      },
      "execution_count": 12,
      "outputs": [
        {
          "output_type": "stream",
          "name": "stdout",
          "text": [
            "['JOÃO', 'ANA', 'LAIR']\n"
          ]
        }
      ]
    },
    {
      "cell_type": "code",
      "source": [
        "#Dobrar os números ímpares de uma lista\n",
        "dobro_impares = [n*2 for n in numeros if n % 2 != 0]\n",
        "print(dobro_impares)"
      ],
      "metadata": {
        "id": "g8rEs8c7dkIt",
        "outputId": "c089419a-6716-4d5b-9339-3265fc746f17",
        "colab": {
          "base_uri": "https://localhost:8080/"
        }
      },
      "execution_count": 14,
      "outputs": [
        {
          "output_type": "stream",
          "name": "stdout",
          "text": [
            "[2, 6, 10]\n"
          ]
        }
      ]
    },
    {
      "cell_type": "code",
      "source": [
        "#Atribuir 2 pontos as notas menores que 5\n",
        "notas = [9.0, 4.5, 2.3, 6.0, 8.2, 5.3]\n",
        "\n",
        "pontos = [notas+2 for notas in notas if notas < 5]\n",
        "print(pontos)"
      ],
      "metadata": {
        "id": "1SMlvj6EiU-U",
        "outputId": "f0350a5c-284b-4965-a23b-79041d850eee",
        "colab": {
          "base_uri": "https://localhost:8080/"
        }
      },
      "execution_count": 19,
      "outputs": [
        {
          "output_type": "stream",
          "name": "stdout",
          "text": [
            "[6.5, 4.3]\n"
          ]
        }
      ]
    },
    {
      "cell_type": "code",
      "source": [
        "soma = lambda a, b : a+b\n",
        "print(soma(10, 5))"
      ],
      "metadata": {
        "id": "VQ62NJjIlPjF",
        "outputId": "f1bfd7aa-d136-4bab-fc50-7a4f3194c728",
        "colab": {
          "base_uri": "https://localhost:8080/"
        }
      },
      "execution_count": 20,
      "outputs": [
        {
          "output_type": "stream",
          "name": "stdout",
          "text": [
            "15\n"
          ]
        }
      ]
    },
    {
      "cell_type": "code",
      "source": [
        "metade = lambda a: a/2\n",
        "print(metade(9))"
      ],
      "metadata": {
        "id": "MwJ_cJv5la_-",
        "outputId": "902f175a-50c0-46e0-989a-f047f7e7128f",
        "colab": {
          "base_uri": "https://localhost:8080/"
        }
      },
      "execution_count": 22,
      "outputs": [
        {
          "output_type": "stream",
          "name": "stdout",
          "text": [
            "4.5\n"
          ]
        }
      ]
    },
    {
      "cell_type": "markdown",
      "source": [
        "map() - TRANSFORMAR\n",
        "\n",
        "A função map() aplica uma função a cada item de um iterável"
      ],
      "metadata": {
        "id": "LXH_3zRAmMlI"
      }
    },
    {
      "cell_type": "code",
      "source": [
        "#list(map(funçãolambda, lista))"
      ],
      "metadata": {
        "id": "mxJQTBDNmLSQ"
      },
      "execution_count": null,
      "outputs": []
    },
    {
      "cell_type": "code",
      "source": [
        "#Com map\n",
        "numeros = [2, 3, 4, 5, 6, 7]\n",
        "quadrados = list(map(lambda x: x**2, numeros))\n",
        "print(quadrados)"
      ],
      "metadata": {
        "id": "0W8cdafVmofA",
        "outputId": "d66e0b66-8b73-46f2-a62d-cf86aa9ee2c5",
        "colab": {
          "base_uri": "https://localhost:8080/"
        }
      },
      "execution_count": 23,
      "outputs": [
        {
          "output_type": "stream",
          "name": "stdout",
          "text": [
            "[4, 9, 16, 25, 36, 49]\n"
          ]
        }
      ]
    },
    {
      "cell_type": "code",
      "source": [
        "#Cria uma lista com o dobro de cada elemento.\n",
        "numeros = [2, 3, 4, 5, 6, 7]\n",
        "dobro = list(map(lambda x: x*2, numeros))\n",
        "print(dobro)"
      ],
      "metadata": {
        "id": "DHMR2GfYm0pC",
        "outputId": "f3955334-518f-49c5-ac03-9d5a13fe59fc",
        "colab": {
          "base_uri": "https://localhost:8080/"
        }
      },
      "execution_count": 24,
      "outputs": [
        {
          "output_type": "stream",
          "name": "stdout",
          "text": [
            "[4, 6, 8, 10, 12, 14]\n"
          ]
        }
      ]
    },
    {
      "cell_type": "code",
      "source": [
        "#Converter uma list de palavras para letras maiúsculas\n",
        "palavras = ['é', 'Hoje', 'my', 'ConsaGrated']\n",
        "Upper = list(map(lambda x: x.upper(), palavras))\n",
        "print(Upper)"
      ],
      "metadata": {
        "id": "tJmZk5NLnW_6",
        "outputId": "b27d1842-502d-47e0-e912-6d602c79b26e",
        "colab": {
          "base_uri": "https://localhost:8080/"
        }
      },
      "execution_count": 26,
      "outputs": [
        {
          "output_type": "stream",
          "name": "stdout",
          "text": [
            "['É', 'HOJE', 'MY', 'CONSAGRATED']\n"
          ]
        }
      ]
    },
    {
      "cell_type": "code",
      "source": [
        "numeros = [1, 2 , 3, 4]\n",
        "pares = list(filter(lambda x: x % 2 == 0, numeros))\n",
        "print(pares)\n",
        "# [2, 4]"
      ],
      "metadata": {
        "id": "hjpcx-n7ouza",
        "outputId": "efb261a6-af18-4a94-be7e-62ab928b8ee9",
        "colab": {
          "base_uri": "https://localhost:8080/"
        }
      },
      "execution_count": 27,
      "outputs": [
        {
          "output_type": "stream",
          "name": "stdout",
          "text": [
            "[2, 4]\n"
          ]
        }
      ]
    },
    {
      "cell_type": "code",
      "source": [
        "#Filtrar apenas palavras com mais de 4 letras\n",
        "nomes = ['Cristiano', 'Alien', 'Ary', 'Bete', 'Já']\n",
        "\n",
        "letras4 = list(filter(lambda x: len(x) > 4, nomes))\n",
        "print(letras4)"
      ],
      "metadata": {
        "id": "wcZWsALRpEBk",
        "outputId": "26896bca-56e4-44a9-c930-68a95d0541d4",
        "colab": {
          "base_uri": "https://localhost:8080/"
        }
      },
      "execution_count": 31,
      "outputs": [
        {
          "output_type": "stream",
          "name": "stdout",
          "text": [
            "['Cristiano', 'Alien']\n"
          ]
        }
      ]
    },
    {
      "cell_type": "code",
      "source": [
        "#Filtrar números maiores que 10\n",
        "\n",
        "numeros = [2, 4, 6, 8, 10, 12, 14, 16, 18, 20]\n",
        "\n",
        "maiores10 = list(filter(lambda x: x > 10, numeros))\n",
        "print(maiores10)"
      ],
      "metadata": {
        "id": "ulsTKK3Wqaxn",
        "outputId": "62712034-2d29-4408-e9f3-1c9e60222f59",
        "colab": {
          "base_uri": "https://localhost:8080/"
        }
      },
      "execution_count": 32,
      "outputs": [
        {
          "output_type": "stream",
          "name": "stdout",
          "text": [
            "[12, 14, 16, 18, 20]\n"
          ]
        }
      ]
    },
    {
      "cell_type": "markdown",
      "source": [
        "Dada a lista abaixo: numeros = [3, 7, 2, 8, 1, 4, 10]\n",
        "\n",
        "*   Responda às seguintes questões e implemente o código correspondente:\n",
        "\n",
        "1.   Dobrar todos os números da lista.\n",
        "*   Você deve usar map() ou filter()?\n",
        "*   Escreva o código.\n",
        "\n",
        "\n",
        "2.   Selecionar apenas os números pares.\n",
        "*   Você deve usar map() ou filter()?\n",
        "*   Escreva o código.\n",
        "\n",
        "\n",
        "3.   Criar uma nova lista onde os números pares são dobrados e os ímpares permanecem iguais.\n",
        "*   Qual estrutura você usaria: map() ou filter() ou list comprehension?\n",
        "*   Escreva o código.\n",
        "\n",
        "\n",
        "\n",
        "\n",
        "\n",
        "\n",
        "\n"
      ],
      "metadata": {
        "id": "sx8MWr4JraER"
      }
    },
    {
      "cell_type": "code",
      "source": [
        "numeros = [3, 7, 2, 8, 1, 4, 10]\n",
        "dobro = list(map(lambda x: x*2, numeros))\n",
        "print(dobro)"
      ],
      "metadata": {
        "id": "aErCNzlcsNUX",
        "outputId": "6cd076c2-b45e-45bb-ea6c-9524ae6650e6",
        "colab": {
          "base_uri": "https://localhost:8080/"
        }
      },
      "execution_count": 33,
      "outputs": [
        {
          "output_type": "stream",
          "name": "stdout",
          "text": [
            "[6, 14, 4, 16, 2, 8, 20]\n"
          ]
        }
      ]
    },
    {
      "cell_type": "code",
      "source": [
        "numeros = [3, 7, 2, 8, 1, 4, 10]\n",
        "pares = list(filter(lambda x: x % 2 == 0, numeros))\n",
        "print(pares)"
      ],
      "metadata": {
        "id": "5oCF_Em0slHp",
        "outputId": "1c74caf1-558f-44b7-cae8-faeb2a20af90",
        "colab": {
          "base_uri": "https://localhost:8080/"
        }
      },
      "execution_count": 34,
      "outputs": [
        {
          "output_type": "stream",
          "name": "stdout",
          "text": [
            "[2, 8, 4, 10]\n"
          ]
        }
      ]
    },
    {
      "cell_type": "code",
      "source": [
        "numeros = [3, 7, 2, 8, 1, 4, 10]\n",
        "paresImpares = [n*2\n",
        "                if n % 2 == 0\n",
        "                else n\n",
        "                for n in numeros]\n",
        "print(paresImpares)"
      ],
      "metadata": {
        "id": "2AnfOLE-szlS",
        "outputId": "6e4a2228-4e1b-48da-b9df-1384f490c2dd",
        "colab": {
          "base_uri": "https://localhost:8080/"
        }
      },
      "execution_count": 38,
      "outputs": [
        {
          "output_type": "stream",
          "name": "stdout",
          "text": [
            "[3, 7, 4, 16, 1, 8, 20]\n"
          ]
        }
      ]
    }
  ],
  "metadata": {
    "colab": {
      "name": "Conheça o Colab",
      "provenance": [],
      "include_colab_link": true
    },
    "kernelspec": {
      "display_name": "Python 3",
      "name": "python3"
    }
  },
  "nbformat": 4,
  "nbformat_minor": 0
}
