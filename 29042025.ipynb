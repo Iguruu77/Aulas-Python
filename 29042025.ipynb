{
  "cells": [
    {
      "cell_type": "markdown",
      "metadata": {
        "id": "view-in-github",
        "colab_type": "text"
      },
      "source": [
        "<a href=\"https://colab.research.google.com/github/Iguruu77/Aulas-Python/blob/main/29042025.ipynb\" target=\"_parent\"><img src=\"https://colab.research.google.com/assets/colab-badge.svg\" alt=\"Open In Colab\"/></a>"
      ]
    },
    {
      "cell_type": "markdown",
      "source": [
        "## REVISÃO A1 - Programação.\n",
        "\n",
        "1 - O código abaixo (em Python) possui erros de sintaxe. Identifique os erros e reescreva o código da forma correta:"
      ],
      "metadata": {
        "id": "l9M1uHINeZ-g"
      }
    },
    {
      "cell_type": "markdown",
      "source": [
        "FORMA ERRADA:"
      ],
      "metadata": {
        "id": "GpxeKNjrewVJ"
      }
    },
    {
      "cell_type": "code",
      "source": [
        "nomes = [\"Ana\", \"Bruno\", \"Carlos\"\n",
        "for nome in nomes\n",
        "print(\"Olá, \" + nome)\n",
        "if nome == \"Carlos\":\n",
        "print(\"Você é o escolhido!\")"
      ],
      "metadata": {
        "id": "nQciBxdfeZ3B"
      },
      "execution_count": null,
      "outputs": []
    },
    {
      "cell_type": "markdown",
      "source": [
        "FORMA CORRETA:"
      ],
      "metadata": {
        "id": "WDMDHi9GezD4"
      }
    },
    {
      "cell_type": "code",
      "source": [
        "nomes = [\"Ana\", \"Bruno\", \"Carlos\"]\n",
        "for nomes in nomes:\n",
        " print(\"Olá, \" + nomes)\n",
        "if nomes == \"Carlos\":\n",
        " print(\"Você é o escolhido!\")"
      ],
      "metadata": {
        "id": "UQrIKRjXetzI",
        "outputId": "89f91799-8d78-462f-95a6-114536184cc8",
        "colab": {
          "base_uri": "https://localhost:8080/"
        }
      },
      "execution_count": 39,
      "outputs": [
        {
          "output_type": "stream",
          "name": "stdout",
          "text": [
            "Olá, Ana\n",
            "Olá, Bruno\n",
            "Olá, Carlos\n",
            "Você é o escolhido!\n"
          ]
        }
      ]
    },
    {
      "cell_type": "markdown",
      "source": [
        "2 - O código abaixo (em Python) possui erros de sintaxe.\n",
        "Identifique os erros e reescreva o código da forma correta:\n"
      ],
      "metadata": {
        "id": "m8tbUTYPkf4e"
      }
    },
    {
      "cell_type": "markdown",
      "source": [
        "FORMA ERRADA:"
      ],
      "metadata": {
        "id": "LdkAo7ozk7sD"
      }
    },
    {
      "cell_type": "code",
      "source": [
        "def calcular_media(notas):\n",
        "soma = 0\n",
        "for nota in notas:\n",
        "    soma = soma + nota\n",
        "media = soma / len(notas)\n",
        "return media\n",
        "\n",
        "notas_aluno = [8.5, 7.0, 9.2]\n",
        "media_final = calcular_media(notas_aluno)\n",
        "print(\"Média final:\", media_final)"
      ],
      "metadata": {
        "id": "-XWvcQgzktoo"
      },
      "execution_count": null,
      "outputs": []
    },
    {
      "cell_type": "markdown",
      "source": [
        "FORMA CORRETA:"
      ],
      "metadata": {
        "id": "emWa-x19k_SK"
      }
    },
    {
      "cell_type": "code",
      "source": [
        "def calcular_media(notas):\n",
        "    soma = 0\n",
        "    for nota in notas:\n",
        "        soma = soma + nota\n",
        "        media = soma / len(notas)\n",
        "    return media\n",
        "\n",
        "notas_aluno = [8.5, 7.0, 9.2]\n",
        "media_final = calcular_media(notas_aluno)\n",
        "print(\"Média final:\", media_final)"
      ],
      "metadata": {
        "id": "S53_HMJulBXz",
        "outputId": "fb288e81-6c9a-420b-b98e-69c7fb1deb07",
        "colab": {
          "base_uri": "https://localhost:8080/"
        }
      },
      "execution_count": 67,
      "outputs": [
        {
          "output_type": "stream",
          "name": "stdout",
          "text": [
            "Média final: 8.233333333333333\n"
          ]
        }
      ]
    },
    {
      "cell_type": "markdown",
      "source": [
        "3 - Dado o código Java abaixo, reescreva-o na linguagem Python:"
      ],
      "metadata": {
        "id": "FYW9X6YSqNiH"
      }
    },
    {
      "cell_type": "markdown",
      "source": [
        "CÓDIGO EM JAVA:"
      ],
      "metadata": {
        "id": "j-tfsNxdqSc-"
      }
    },
    {
      "cell_type": "code",
      "source": [
        "public class Saudacao {\n",
        "    public static void main(String[] args) {\n",
        "        String nome = \"Maria\";\n",
        "        System.out.println(\"Olá, \" + nome + \"!\");\n",
        "    }\n",
        "}"
      ],
      "metadata": {
        "id": "uSfXI1awqQJ_"
      },
      "execution_count": null,
      "outputs": []
    },
    {
      "cell_type": "markdown",
      "source": [
        "CÓDIGO EM PYTHON:"
      ],
      "metadata": {
        "id": "59Z47mOuqVZP"
      }
    },
    {
      "cell_type": "code",
      "source": [
        "nome = \"Maria\"\n",
        "\n",
        "def nomes(nome):\n",
        "    print(\"Olá, \" + nome + \"!\")\n",
        "\n",
        "nomes(nome)"
      ],
      "metadata": {
        "id": "U6B69lfWqSL-",
        "outputId": "45bf0f33-7b39-4a60-904f-fe9b76a86191",
        "colab": {
          "base_uri": "https://localhost:8080/"
        }
      },
      "execution_count": 83,
      "outputs": [
        {
          "output_type": "stream",
          "name": "stdout",
          "text": [
            "Olá, Maria!\n"
          ]
        }
      ]
    },
    {
      "cell_type": "markdown",
      "source": [
        "4 - Dado o código Java abaixo, reescreva-o na linguagem Python:"
      ],
      "metadata": {
        "id": "vzZ4LKKxr6Oq"
      }
    },
    {
      "cell_type": "markdown",
      "source": [
        "CÓDIGO EM JAVA:"
      ],
      "metadata": {
        "id": "WQomq4afr_Et"
      }
    },
    {
      "cell_type": "code",
      "source": [
        "public class SomaPares {\n",
        "    public static void main(String[] args) {\n",
        "        int soma = 0;\n",
        "        for (int i = 1; i <= 10; i++) {\n",
        "            if (i % 2 == 0) {\n",
        "                soma += i;\n",
        "            }\n",
        "        }\n",
        "        System.out.println(\"A soma dos pares de 1 a 10 é: \" + soma);\n",
        "    }\n",
        "}"
      ],
      "metadata": {
        "id": "ss1ercQ2r-Ai"
      },
      "execution_count": null,
      "outputs": []
    },
    {
      "cell_type": "markdown",
      "source": [
        "CÓDIGO EM PYTHON:"
      ],
      "metadata": {
        "id": "I6bWY_a2r--C"
      }
    },
    {
      "cell_type": "code",
      "source": [
        "  soma = 0\n",
        "\n",
        "  for numero in range (1, 11):\n",
        "   soma += numero\n",
        "\n",
        "  if numero % 2 == 0:\n",
        "   print(\"A soma dos pares de 1 a 10 é:\", soma)"
      ],
      "metadata": {
        "id": "INpLRDUrr-h6",
        "outputId": "840e3e66-53f1-42ed-b7b0-f68ae1a85e01",
        "colab": {
          "base_uri": "https://localhost:8080/"
        }
      },
      "execution_count": 2,
      "outputs": [
        {
          "output_type": "stream",
          "name": "stdout",
          "text": [
            "A soma dos pares de 1 a 10 é: 55\n"
          ]
        }
      ]
    },
    {
      "cell_type": "markdown",
      "source": [
        "5 - Escreva um código em Python que percorra os números de 1 a 20 e imprima apenas os múltiplos de 3 que também sejam pares."
      ],
      "metadata": {
        "id": "bux56wazuhkY"
      }
    },
    {
      "cell_type": "code",
      "source": [
        "for numero in range (1,21):\n",
        "  if numero % 2 != 0:\n",
        "   print (\"O mútiplo de 3 que também são pares:\", numero)"
      ],
      "metadata": {
        "id": "qhb1frIcuhKo",
        "outputId": "5ab0a955-f2d9-446d-9dc0-a3d696699605",
        "colab": {
          "base_uri": "https://localhost:8080/"
        }
      },
      "execution_count": 6,
      "outputs": [
        {
          "output_type": "stream",
          "name": "stdout",
          "text": [
            "O mútiplo de 3 que também são pares: 1\n",
            "O mútiplo de 3 que também são pares: 3\n",
            "O mútiplo de 3 que também são pares: 5\n",
            "O mútiplo de 3 que também são pares: 7\n",
            "O mútiplo de 3 que também são pares: 9\n",
            "O mútiplo de 3 que também são pares: 11\n",
            "O mútiplo de 3 que também são pares: 13\n",
            "O mútiplo de 3 que também são pares: 15\n",
            "O mútiplo de 3 que também são pares: 17\n",
            "O mútiplo de 3 que também são pares: 19\n"
          ]
        }
      ]
    },
    {
      "cell_type": "markdown",
      "source": [
        "5.1 - Dada a lista abaixo, escreva um código em Python que imprima apenas os nomes com mais de 5 letras:\n",
        "\n",
        "nomes = [\"Ana\", \"Beatriz\", \"Carlos\", \"Jo\", \"Fernanda\"]"
      ],
      "metadata": {
        "id": "jtwy9ocwwh_G"
      }
    },
    {
      "cell_type": "code",
      "source": [
        "nomes = [\"Ana\", \"Beatriz\", \"Carlos\", \"Jo\", \"Fernanda\"]\n",
        "maisDe5 = [nomes for nomes in nomes if len(nomes) > 5]\n",
        "print(maisDe5)"
      ],
      "metadata": {
        "id": "vND5Y53fwnJm",
        "outputId": "18ec0338-38e9-4903-c3dc-70386c40822c",
        "colab": {
          "base_uri": "https://localhost:8080/"
        }
      },
      "execution_count": 7,
      "outputs": [
        {
          "output_type": "stream",
          "name": "stdout",
          "text": [
            "['Beatriz', 'Carlos', 'Fernanda']\n"
          ]
        }
      ]
    },
    {
      "cell_type": "markdown",
      "source": [
        "5.2 - O código abaixo está incompleto. Complete-o para que verifique se o nome \"João\" está presente na lista e imprima uma mensagem apropriada:\n",
        "\n",
        "nomes = [\"Maria\", \"Joana\", \"Carlos\", \"João\"]"
      ],
      "metadata": {
        "id": "mMycSeHrxLpC"
      }
    },
    {
      "cell_type": "code",
      "source": [
        "nomes = [\"Maria\", \"Joana\", \"Carlos\", \"João\"]\n",
        "\n",
        "nomeDesejado = \"João\"\n",
        "\n",
        "presenteNaLista = list(filter(lambda nome: nome == nomeDesejado, nomes))\n",
        "print(presenteNaLista)\n",
        "if nomeDesejado:\n",
        " print(\"O nome João foi encontrado na lista!!!\")"
      ],
      "metadata": {
        "id": "hspB5zuHxRyL",
        "outputId": "22621928-2cee-40ef-93ee-a9d9965bab1b",
        "colab": {
          "base_uri": "https://localhost:8080/"
        }
      },
      "execution_count": 33,
      "outputs": [
        {
          "output_type": "stream",
          "name": "stdout",
          "text": [
            "['João']\n",
            "O nome João foi encontrado na lista!!!\n"
          ]
        }
      ]
    },
    {
      "cell_type": "markdown",
      "source": [
        "6 - O que será impresso pelo código abaixo? Justifique sua resposta."
      ],
      "metadata": {
        "id": "46wEf-H-0NUr"
      }
    },
    {
      "cell_type": "code",
      "source": [
        "soma = 0\n",
        "for i in range(1, 6):\n",
        "    if i % 2 != 0:\n",
        "        soma += i\n",
        "print(soma)"
      ],
      "metadata": {
        "id": "L3R-eyf00QSq",
        "outputId": "993f666c-23d4-45de-dd0c-bb1a2b3b5624",
        "colab": {
          "base_uri": "https://localhost:8080/"
        }
      },
      "execution_count": 34,
      "outputs": [
        {
          "output_type": "stream",
          "name": "stdout",
          "text": [
            "9\n"
          ]
        }
      ]
    },
    {
      "cell_type": "markdown",
      "source": [
        "RESPOSTA:\n"
      ],
      "metadata": {
        "id": "y4kt3eZn0acC"
      }
    }
  ],
  "metadata": {
    "colab": {
      "name": "Conheça o Colab",
      "provenance": [],
      "include_colab_link": true
    },
    "kernelspec": {
      "display_name": "Python 3",
      "name": "python3"
    }
  },
  "nbformat": 4,
  "nbformat_minor": 0
}