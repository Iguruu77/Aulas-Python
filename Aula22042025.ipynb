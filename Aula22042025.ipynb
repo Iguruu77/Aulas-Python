{
  "cells": [
    {
      "cell_type": "markdown",
      "metadata": {
        "id": "view-in-github",
        "colab_type": "text"
      },
      "source": [
        "<a href=\"https://colab.research.google.com/github/Iguruu77/Aulas-Python/blob/main/22/04/2025.ipynb\" target=\"_parent\"><img src=\"https://colab.research.google.com/assets/colab-badge.svg\" alt=\"Open In Colab\"/></a>"
      ]
    },
    {
      "cell_type": "markdown",
      "source": [
        "Os dicionários (dict) em Python são estruturas de dados mutáveis que armazenam pares de chave-valor. Eles são ideias para mapeamentos rápidos e eficientes, como banco de dados simples ou configurações.\n",
        "\n"
      ],
      "metadata": {
        "id": "gZbRZQTCbW7b"
      }
    },
    {
      "cell_type": "code",
      "source": [
        "aluno = {\n",
        "  \"nome\": \"Juca\",\n",
        "  \"RA\": \"123456789\",\n",
        "  \"Data_Nascim\": \"10/10/1999\",\n",
        "  \"Telefones\": [83123456789, 84123456789]\n",
        "}\n",
        "aluno"
      ],
      "metadata": {
        "id": "lfPR7rUebWyb",
        "outputId": "164f2a95-f541-4d77-d722-49245f2b5ed9",
        "colab": {
          "base_uri": "https://localhost:8080/"
        }
      },
      "execution_count": 1,
      "outputs": [
        {
          "output_type": "execute_result",
          "data": {
            "text/plain": [
              "{'nome': 'Juca', 'RA': '123456789', 'Data_Nascim': '10/10/1999'}"
            ]
          },
          "metadata": {},
          "execution_count": 1
        }
      ]
    },
    {
      "cell_type": "code",
      "source": [
        "dicionario_vazio = {}\n",
        "dicionario = {\n",
        "    \"nome\": \"João\",\n",
        "    \"idade\": 25\n",
        "    }\n",
        "dicionario_misto = {1: \"a\", True: \"b\"}"
      ],
      "metadata": {
        "id": "9lmw5_-KeDvO"
      },
      "execution_count": 16,
      "outputs": []
    },
    {
      "cell_type": "code",
      "source": [
        "print(aluno[\"nome\"])\n",
        "print(aluno[\"RA\"])\n",
        "print(aluno[\"Telefones\"])\n",
        "print(aluno[\"Telefones\"][0])"
      ],
      "metadata": {
        "id": "bZpZfWrKmF_L"
      },
      "execution_count": null,
      "outputs": []
    },
    {
      "cell_type": "markdown",
      "source": [
        "Exercício 1 - Crie um dicionário chamado livro com as seguintes informações:\n",
        "\n",
        "*  Título;\n",
        "*  Autor;\n",
        "*  Ano de publicação.\n",
        "\n",
        "Imprima o dicionário na tela."
      ],
      "metadata": {
        "id": "ThtfqPX2hRrH"
      }
    },
    {
      "cell_type": "code",
      "source": [
        "livro = {\n",
        "    \"Título\": \"Jogador número 01\",\n",
        "    \"Autor\": \"Ernest Clint\",\n",
        "    \"Ano de publicação\": \"2011\"\n",
        "}\n",
        "livro"
      ],
      "metadata": {
        "id": "cAVei93uhIdw",
        "outputId": "f605db84-25ff-421d-fc80-6748239ac26e",
        "colab": {
          "base_uri": "https://localhost:8080/"
        }
      },
      "execution_count": 11,
      "outputs": [
        {
          "output_type": "execute_result",
          "data": {
            "text/plain": [
              "{'Título': 'Jogador número 01',\n",
              " 'Autor': 'Ernest Clint',\n",
              " 'Ano de publicação': '2011'}"
            ]
          },
          "metadata": {},
          "execution_count": 11
        }
      ]
    },
    {
      "cell_type": "code",
      "source": [
        "print(livro[\"Título\"])\n",
        "print(livro[\"Autor\"])\n",
        "print(livro[\"Ano de publicação\"])"
      ],
      "metadata": {
        "id": "8ksDieusi5gH",
        "outputId": "7edece45-2171-4d20-c7ba-38303c82a90a",
        "colab": {
          "base_uri": "https://localhost:8080/"
        }
      },
      "execution_count": 15,
      "outputs": [
        {
          "output_type": "stream",
          "name": "stdout",
          "text": [
            "Jogador número 01\n",
            "Ernest Clint\n",
            "2011\n"
          ]
        }
      ]
    },
    {
      "cell_type": "code",
      "source": [
        "print(aluno[\"nome\"])\n",
        "print(aluno.get(\"endereço\"))\n",
        "print(aluno.get(\"endereço\", \"Não tem endereço\"))"
      ],
      "metadata": {
        "id": "u8ybFMNrjAmW",
        "outputId": "66ffcf58-133d-4602-8aba-e6d6538a37a6",
        "colab": {
          "base_uri": "https://localhost:8080/"
        }
      },
      "execution_count": 12,
      "outputs": [
        {
          "output_type": "stream",
          "name": "stdout",
          "text": [
            "Juca\n",
            "None\n",
            "Não tem endereço\n"
          ]
        }
      ]
    },
    {
      "cell_type": "code",
      "source": [
        "dados = {\"nome\": \"Maria\", \"telefone\": 2225588}\n",
        "print(dados.get(\"nome\"))\n",
        "print(dados.get(\"telefone\"))\n",
        "print(dados.get(\"telefone\", \"Não informado\"))"
      ],
      "metadata": {
        "id": "_IrKUghFj4Cf"
      },
      "execution_count": null,
      "outputs": []
    },
    {
      "cell_type": "markdown",
      "source": [
        "Exerício 2 - Acesso Seguro\n",
        "\n",
        "Utilize o método .get() para acessar o valor da chave editora no dicionário livro criado anteriormente. Forneça um valor padrão \"Desconhecida\"."
      ],
      "metadata": {
        "id": "JpudX1jYk7c3"
      }
    },
    {
      "cell_type": "code",
      "source": [
        "dados = {\"Título\": \"Jogador número 01\", \"Autor\": \"Ernest Clint\", \"Ano de publicação\": \"2011\"}\n",
        "print(dados.get(\"Título\"))\n",
        "print(dados.get(\"Autor\"))\n",
        "print(dados.get(\"Ano de publicação\"))\n",
        "print(dados.get(\"Desconhecida\"))"
      ],
      "metadata": {
        "id": "h8hA_lDflIDI",
        "outputId": "f28bc64d-d7a5-4a61-c33b-7f37ff655bb4",
        "colab": {
          "base_uri": "https://localhost:8080/"
        }
      },
      "execution_count": 14,
      "outputs": [
        {
          "output_type": "stream",
          "name": "stdout",
          "text": [
            "Jogador número 01\n",
            "Ernest Clint\n",
            "2011\n",
            "None\n"
          ]
        }
      ]
    },
    {
      "cell_type": "markdown",
      "source": [
        "Adicionar ou Modificar Itens"
      ],
      "metadata": {
        "id": "dFev0uDWmhVs"
      }
    },
    {
      "cell_type": "code",
      "source": [
        "aluno[\"RA\"] = \"12345\"\n",
        "aluno[\"curso\"] = \"ADS\"\n",
        "print(aluno)\n",
        "aluno.get(\"curso\")"
      ],
      "metadata": {
        "id": "pNDezypumIXz",
        "outputId": "5617e0d5-3dd0-4bbb-8f33-44a49a42d83d",
        "colab": {
          "base_uri": "https://localhost:8080/",
          "height": 53
        }
      },
      "execution_count": 18,
      "outputs": [
        {
          "output_type": "stream",
          "name": "stdout",
          "text": [
            "{'nome': 'Juca', 'RA': '12345', 'Data_Nascim': '10/10/1999', 'curso': 'ADS'}\n"
          ]
        },
        {
          "output_type": "execute_result",
          "data": {
            "text/plain": [
              "'ADS'"
            ],
            "application/vnd.google.colaboratory.intrinsic+json": {
              "type": "string"
            }
          },
          "metadata": {},
          "execution_count": 18
        }
      ]
    },
    {
      "cell_type": "markdown",
      "source": [
        "Exerício 3\n",
        "\n",
        "Adicione a chave editora ao dicionário livro e depois atualize o ano de publicação para 2023."
      ],
      "metadata": {
        "id": "yKh9W2bAmXUe"
      }
    },
    {
      "cell_type": "code",
      "source": [
        "livro[\"Editora\"] = \"Leya\"\n",
        "livro[\"Ano de publicação\"] = \"2023\"\n",
        "print(livro)\n",
        "livro.get(\"Editora\")"
      ],
      "metadata": {
        "id": "13_Wp4_xmog8",
        "outputId": "679a688d-d6d8-4ba9-9a64-f52c1fee847b",
        "colab": {
          "base_uri": "https://localhost:8080/",
          "height": 53
        }
      },
      "execution_count": 19,
      "outputs": [
        {
          "output_type": "stream",
          "name": "stdout",
          "text": [
            "{'Título': 'Jogador número 01', 'Autor': 'Ernest Clint', 'Ano de publicação': '2023', 'Editora': 'Leya'}\n"
          ]
        },
        {
          "output_type": "execute_result",
          "data": {
            "text/plain": [
              "'Leya'"
            ],
            "application/vnd.google.colaboratory.intrinsic+json": {
              "type": "string"
            }
          },
          "metadata": {},
          "execution_count": 19
        }
      ]
    },
    {
      "cell_type": "markdown",
      "source": [
        "Remoção de Itens"
      ],
      "metadata": {
        "id": "twjxU46onJiE"
      }
    },
    {
      "cell_type": "code",
      "source": [
        "#del (remove pela chave, com erro se não existir)\n",
        "del aluno[\"curso\"]\n",
        "print(aluno)"
      ],
      "metadata": {
        "id": "gjpsJ-yKnLxc"
      },
      "execution_count": null,
      "outputs": []
    },
    {
      "cell_type": "code",
      "source": [
        "#pop() (remove e retorna o valor, pode definir padrão)\n",
        "aluno.pop(\"curso\", 0)\n",
        "print(aluno)"
      ],
      "metadata": {
        "id": "yfwMA5Hcng28"
      },
      "execution_count": null,
      "outputs": []
    },
    {
      "cell_type": "code",
      "source": [
        "#popitem() (remove e retorna o último item adicionado)\n",
        "item = aluno.popitem()\n",
        "print(item)"
      ],
      "metadata": {
        "id": "GkQkTSp2nm6V"
      },
      "execution_count": null,
      "outputs": []
    },
    {
      "cell_type": "code",
      "source": [
        "#clear() (limpa todo o dicionário)\n",
        "aluno.clear()\n",
        "print(aluno)"
      ],
      "metadata": {
        "id": "zKFkHXRenzXd"
      },
      "execution_count": null,
      "outputs": []
    },
    {
      "cell_type": "markdown",
      "source": [
        "Exerício 4 - Remoção\n",
        "\n",
        "Remova a chave autor do dicionário livro."
      ],
      "metadata": {
        "id": "0WEoLfSlo5E2"
      }
    },
    {
      "cell_type": "code",
      "source": [
        "livro.pop(\"autor\", 0)\n",
        "print(livro)"
      ],
      "metadata": {
        "id": "6HNaU1e2pFio",
        "outputId": "b2b44eaa-b334-4ee8-d79f-e07ac75f9bbf",
        "colab": {
          "base_uri": "https://localhost:8080/"
        }
      },
      "execution_count": 20,
      "outputs": [
        {
          "output_type": "stream",
          "name": "stdout",
          "text": [
            "{'Título': 'Jogador número 01', 'Autor': 'Ernest Clint', 'Ano de publicação': '2023', 'Editora': 'Leya'}\n"
          ]
        }
      ]
    },
    {
      "cell_type": "markdown",
      "source": [
        "Verificar chaves e valores"
      ],
      "metadata": {
        "id": "g_iqdRtHpc74"
      }
    },
    {
      "cell_type": "code",
      "source": [
        "dados = {\n",
        "    \"nome\": \"Pedro\",\n",
        "    \"idade\": 35\n",
        "    }\n",
        "\n",
        "print(\"nome\" in dados)\n",
        "print(\"telefone\" in dados)\n",
        "print(\"Pedro\" in dados.values())"
      ],
      "metadata": {
        "id": "5hJy2BRMpf6g",
        "outputId": "9aa9f65b-e946-4c4f-98f2-dc32dae70a86",
        "colab": {
          "base_uri": "https://localhost:8080/"
        }
      },
      "execution_count": 21,
      "outputs": [
        {
          "output_type": "stream",
          "name": "stdout",
          "text": [
            "True\n",
            "False\n",
            "True\n"
          ]
        }
      ]
    },
    {
      "cell_type": "code",
      "source": [
        "print(type(dados.items()))"
      ],
      "metadata": {
        "id": "cyAsvm3VqWSE",
        "outputId": "68f685d7-1078-489f-d121-02eec444d3a1",
        "colab": {
          "base_uri": "https://localhost:8080/"
        }
      },
      "execution_count": 22,
      "outputs": [
        {
          "output_type": "stream",
          "name": "stdout",
          "text": [
            "<class 'dict_items'>\n"
          ]
        }
      ]
    },
    {
      "cell_type": "markdown",
      "source": [
        "Iterar sobre um dicionário"
      ],
      "metadata": {
        "id": "cgriW-akqf_b"
      }
    },
    {
      "cell_type": "code",
      "source": [
        "#Percorrer chaves\n",
        "for chave in dados.keys():\n",
        "    print(chave)"
      ],
      "metadata": {
        "id": "kf5oZdjhqffz",
        "outputId": "19a79b80-c9cd-4c79-82f0-e66e088fe932",
        "colab": {
          "base_uri": "https://localhost:8080/"
        }
      },
      "execution_count": 25,
      "outputs": [
        {
          "output_type": "stream",
          "name": "stdout",
          "text": [
            "nome\n",
            "idade\n"
          ]
        }
      ]
    },
    {
      "cell_type": "code",
      "source": [
        "#Percorrer valores\n",
        "for valor in dados.values():\n",
        "    print(valor)"
      ],
      "metadata": {
        "id": "SlazmhNAqxYc",
        "outputId": "d6e06d1f-b63e-451f-c484-afc98bb2bb14",
        "colab": {
          "base_uri": "https://localhost:8080/"
        }
      },
      "execution_count": 26,
      "outputs": [
        {
          "output_type": "stream",
          "name": "stdout",
          "text": [
            "Pedro\n",
            "35\n"
          ]
        }
      ]
    },
    {
      "cell_type": "code",
      "source": [
        "#Percorrer chaves e valores (items())\n",
        "for chave, valor in dados.items():\n",
        "  print(f\"{chave}: {valor}\")"
      ],
      "metadata": {
        "id": "89jsMX82q_OU",
        "outputId": "bbb13bf4-e94f-45e2-8afb-3d99d367b4ec",
        "colab": {
          "base_uri": "https://localhost:8080/"
        }
      },
      "execution_count": 27,
      "outputs": [
        {
          "output_type": "stream",
          "name": "stdout",
          "text": [
            "nome: Pedro\n",
            "idade: 35\n"
          ]
        }
      ]
    },
    {
      "cell_type": "markdown",
      "source": [
        "Exerício 5 - Iteração\n",
        "\n",
        "Crie um dicionário com 3 linguagens de programação e o ano em que foram lançadas. Percorra o dicionário e exiba uma frase para cada para chave-valor."
      ],
      "metadata": {
        "id": "fqympAdLrM3k"
      }
    },
    {
      "cell_type": "code",
      "source": [
        "linguagens = {\n",
        "    \"Java\": \"1995\",\n",
        "    \"Python\": \"1991\",\n",
        "    \"C#\": \"2000\"\n",
        "}\n",
        "print(linguagens)"
      ],
      "metadata": {
        "id": "CGQOP_25rZhs",
        "outputId": "3d9396aa-88ab-4a91-a4e2-532dfea7a3e8",
        "colab": {
          "base_uri": "https://localhost:8080/"
        }
      },
      "execution_count": 28,
      "outputs": [
        {
          "output_type": "stream",
          "name": "stdout",
          "text": [
            "{'Java': '1995', 'Python': '1991', 'C#': '2000'}\n"
          ]
        }
      ]
    },
    {
      "cell_type": "markdown",
      "source": [
        "Lista de dicionários"
      ],
      "metadata": {
        "id": "zYCSiKdjsYy6"
      }
    },
    {
      "cell_type": "code",
      "source": [
        "turma = [\n",
        "    {\"nome\": \"Ana\", \"nota\": 8.50},\n",
        "    {\"nome\": \"Lucas\", \"nota\": 7.0},\n",
        "    {\"nome\": \"Ana\", \"nota\": 9.0}\n",
        "\n",
        "]"
      ],
      "metadata": {
        "id": "tD5Uu7LssWg6"
      },
      "execution_count": null,
      "outputs": []
    },
    {
      "cell_type": "code",
      "source": [
        "#Inserir novo dicionário na lista\n",
        "turma.append({\"nome\": \"Carlos\", \"nota\": 6.5})\n",
        "print(turma)"
      ],
      "metadata": {
        "id": "j7Sth6-Ds8sn"
      },
      "execution_count": null,
      "outputs": []
    },
    {
      "cell_type": "code",
      "source": [
        "#Acessar dados\n",
        "print(\"Nome do primeiro aluno:\", turma[0][\"nome\"])\n",
        "print(\"Nota do segundo aluno:\", turma[1][\"nota\"])"
      ],
      "metadata": {
        "id": "cqzFa2h-tGA2"
      },
      "execution_count": null,
      "outputs": []
    },
    {
      "cell_type": "code",
      "source": [
        "#Modificar dados\n",
        "turma[0][\"nota\"] = 9.0\n",
        "print(turma)"
      ],
      "metadata": {
        "id": "bjdWaIxctbiw"
      },
      "execution_count": null,
      "outputs": []
    }
  ],
  "metadata": {
    "colab": {
      "name": "Conheça o Colab",
      "provenance": [],
      "include_colab_link": true
    },
    "kernelspec": {
      "display_name": "Python 3",
      "name": "python3"
    }
  },
  "nbformat": 4,
  "nbformat_minor": 0
}
