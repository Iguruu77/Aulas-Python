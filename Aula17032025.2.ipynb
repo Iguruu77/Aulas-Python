{
  "cells": [
    {
      "cell_type": "markdown",
      "metadata": {
        "id": "view-in-github",
        "colab_type": "text"
      },
      "source": [
        "<a href=\"https://colab.research.google.com/github/Iguruu77/Aulas---Python/blob/main/Estruturas_de_Controle_Python.ipynb\" target=\"_parent\"><img src=\"https://colab.research.google.com/assets/colab-badge.svg\" alt=\"Open In Colab\"/></a>"
      ]
    },
    {
      "cell_type": "markdown",
      "source": [
        "# **REVISÃO**"
      ],
      "metadata": {
        "id": "9R7b0OR6H5gm"
      }
    },
    {
      "cell_type": "markdown",
      "source": [
        "1. Peça ao usuário dois números do tipo float e execute as seguintes operações:\n",
        "\n",
        "\n",
        " 1.   Soma de a e b\n",
        " 2.   Subtração de a por b\n",
        " 3.   Divisão de a por b\n",
        " 4.   Resto da divisão de a por b\n",
        "\n",
        "\n",
        "\n",
        "\n",
        "\n",
        "\n"
      ],
      "metadata": {
        "id": "IuEHVlowIQfQ"
      }
    },
    {
      "cell_type": "code",
      "source": [],
      "metadata": {
        "id": "LcoPzGOiSbOt"
      },
      "execution_count": null,
      "outputs": []
    },
    {
      "cell_type": "markdown",
      "source": [
        "2. O usuário deve inserir o peso e a altura do usuário e o programa rertorna o IMC (índice de masa corpórea)."
      ],
      "metadata": {
        "id": "WZ8Vdso7JUfr"
      }
    },
    {
      "cell_type": "code",
      "source": [],
      "metadata": {
        "id": "ONnB5oYSJhYF"
      },
      "execution_count": null,
      "outputs": []
    },
    {
      "cell_type": "markdown",
      "source": [
        "3. Escreva um programa que solicita ao usuário: Nome da pessoa, nome da rua, número da casa/prédio, bairro, cidade e CEP. Ao final, o programa escreve um texto no estilo que se segue:\n",
        "\n",
        "\"Manoel, residente à rua Aderbal dos Santos, 21, Cruz das Armas, João Pessoa, CEP 5800000\"\n",
        "\n"
      ],
      "metadata": {
        "id": "8C1LH3_UJiPd"
      }
    },
    {
      "cell_type": "code",
      "source": [
        "nome = input('Coloque o nome: ')\n",
        "rua = input('Nome da rua')\n",
        "número = input('Número:')\n",
        "bairro = input('Bairro:')\n",
        "cidade = input('Cidade:')\n",
        "CEP = input('CEP - apenas números:')\n",
        "\n",
        "print(f\"{nome}, residente à {rua}, {número}, {bairro}, {cidade}, {CEP}\")"
      ],
      "metadata": {
        "id": "Yc91gzR1KBK9",
        "colab": {
          "base_uri": "https://localhost:8080/"
        },
        "outputId": "023d04c7-0e94-4f4d-ad47-676b33504102"
      },
      "execution_count": 6,
      "outputs": [
        {
          "output_type": "stream",
          "name": "stdout",
          "text": [
            "Coloque o nome: Igor\n",
            "Nome da ruaJosemar Negromonte de Azevedo \n",
            "Número:109\n",
            "Bairro:Jardim Cidade Universitária\n",
            "Cidade:João Pessoa\n",
            "CEP - apenas números:58052567\n",
            "Igor, residente à Josemar Negromonte de Azevedo , 109, Jardim Cidade Universitária, João Pessoa, 58052567\n"
          ]
        }
      ]
    },
    {
      "cell_type": "code",
      "source": [
        "tempC = float(input('Qual a temperatura?'))\n",
        "\n",
        "tempFah = (tempC * 9/5) + 32\n",
        "print ()"
      ],
      "metadata": {
        "id": "D9zdCMqoRwxl"
      },
      "execution_count": null,
      "outputs": []
    },
    {
      "cell_type": "markdown",
      "source": [
        "# Uso básico if"
      ],
      "metadata": {
        "id": "xTr9VsAWUoHY"
      }
    },
    {
      "cell_type": "code",
      "source": [
        "#Recebe a idade do indivíduo e infortma se ele é maior de Idade.\n",
        "\n",
        "idade = 20\n",
        "\n",
        "if idade > 18:\n",
        "  print('É maior de idade')"
      ],
      "metadata": {
        "id": "NXpmBo1VTZqT"
      },
      "execution_count": null,
      "outputs": []
    },
    {
      "cell_type": "markdown",
      "source": [
        "# Uso básico If e Else"
      ],
      "metadata": {
        "id": "UM4pnA5DVKeD"
      }
    },
    {
      "cell_type": "code",
      "source": [
        "#Recebe a idade do indivíduo e infortma se ele é maior de Idade.\n",
        "\n",
        "idade = 20\n",
        "\n",
        "if idade > 18:\n",
        "  print('É maior de idade')\n",
        "else:\n",
        "  print('É menor de idade')"
      ],
      "metadata": {
        "colab": {
          "base_uri": "https://localhost:8080/"
        },
        "id": "8zwWT6XzU-_N",
        "outputId": "012c64d5-1540-41d5-c4e1-f526f9955fda"
      },
      "execution_count": 23,
      "outputs": [
        {
          "output_type": "stream",
          "name": "stdout",
          "text": [
            "É maior de idade\n"
          ]
        }
      ]
    },
    {
      "cell_type": "markdown",
      "source": [
        "# Trabalhando com múltiplas condições ELIF"
      ],
      "metadata": {
        "id": "X943IvoaV_f1"
      }
    },
    {
      "cell_type": "code",
      "source": [
        "# Recebe a idade do usuário e informa se é Idoso (60+), Meia idade (+35), Adulto (+18), Menor de idade (-18)\n",
        "Idade = 25\n",
        "\n",
        "if Idade >=60:\n",
        "  print('Idoso')\n",
        "elif Idade >=35:\n",
        "  print('Meia idade')\n",
        "elif Idade >=18:\n",
        "  print('Adulto')\n",
        "else:\n",
        "  print('Menor de idade')"
      ],
      "metadata": {
        "colab": {
          "base_uri": "https://localhost:8080/"
        },
        "id": "hIsNKFXdWDqf",
        "outputId": "1dc17bf0-6a80-4dd1-8246-91412dc206f9"
      },
      "execution_count": 22,
      "outputs": [
        {
          "output_type": "stream",
          "name": "stdout",
          "text": [
            "Adulto\n"
          ]
        }
      ]
    },
    {
      "cell_type": "markdown",
      "source": [
        "# Escreva um programa que peça ao usuário o valor total de uma compra e aplique um desconto baseado no valor.\n",
        "\n",
        "*   Compras até R$ 100,00 - Sem desconto;\n",
        "\n",
        "*   Compras entre: R$ 101,00 e 500,00 - desconto de 10%\n",
        "\n",
        "*   Compras entre R$ 501 e 1000,00 - desconto de 20%\n",
        "\n",
        "*   Compras acima de R$ 1000,00 - desconto de 30%\n",
        "\n",
        "\n"
      ],
      "metadata": {
        "id": "xexuHAvBYbSi"
      }
    },
    {
      "cell_type": "code",
      "source": [
        "Compra = float(input('Coloque o valor da compra?'))\n",
        "\n",
        "if Compra <=100:\n",
        "  print('Sem desconto')\n",
        "elif Compra >=101 <=500:\n",
        "  print(Compra * 0.1)\n",
        "elif Compra >=501 <=1000:\n",
        "  print(Compra * 0.2)\n",
        "else:\n",
        "  print(Compra * 0.3)"
      ],
      "metadata": {
        "colab": {
          "base_uri": "https://localhost:8080/"
        },
        "id": "o8-W1ZZ1YadT",
        "outputId": "4bd2b6da-2ecf-47d4-fbf5-b35a5ad7a837"
      },
      "execution_count": 27,
      "outputs": [
        {
          "output_type": "stream",
          "name": "stdout",
          "text": [
            "Coloque o valor da compra?500\n",
            "50.0\n"
          ]
        }
      ]
    },
    {
      "cell_type": "markdown",
      "source": [
        "# Estruturas Aninhadas"
      ],
      "metadata": {
        "id": "6OBAh51eeGLb"
      }
    },
    {
      "cell_type": "code",
      "source": [
        "#Pergunte a idade do usuário e se tem CNH, caso satisfaça as duas condições\n",
        "\n",
        "idade = 25\n",
        "temCNH = False\n",
        "\n",
        "if idade > 18:\n",
        "  if temCNH:\n",
        "    print ('Pode dirigir')\n",
        "  else:\n",
        "    print ('Sem habilitação, não pode dirigir')\n",
        "else:\n",
        "  print ('Menor da idade não pode dirigir')"
      ],
      "metadata": {
        "colab": {
          "base_uri": "https://localhost:8080/"
        },
        "id": "_lJ-tk6weKMD",
        "outputId": "157f9183-0d8f-4d7c-bf9f-b44a92f1f843"
      },
      "execution_count": 30,
      "outputs": [
        {
          "output_type": "stream",
          "name": "stdout",
          "text": [
            "Sem habilitação, não pode dirigir\n"
          ]
        }
      ]
    }
  ],
  "metadata": {
    "colab": {
      "provenance": [],
      "include_colab_link": true
    },
    "kernelspec": {
      "display_name": "Python 3",
      "name": "python3"
    }
  },
  "nbformat": 4,
  "nbformat_minor": 0
}
