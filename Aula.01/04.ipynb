{
  "cells": [
    {
      "cell_type": "markdown",
      "metadata": {
        "id": "view-in-github",
        "colab_type": "text"
      },
      "source": [
        "<a href=\"https://colab.research.google.com/github/Iguruu77/Aulas-Python/blob/main/Aula.01/04.ipynb\" target=\"_parent\"><img src=\"https://colab.research.google.com/assets/colab-badge.svg\" alt=\"Open In Colab\"/></a>"
      ]
    },
    {
      "cell_type": "code",
      "source": [
        "#Imprimir lista\n",
        "\n",
        "frutas = ['maçã', 'banana', 'laranja', 'abacate']\n",
        "print(frutas)"
      ],
      "metadata": {
        "id": "BByGLn-ASTB-",
        "outputId": "eb284366-7846-48f7-d417-d8ee8dfd8177",
        "colab": {
          "base_uri": "https://localhost:8080/"
        }
      },
      "execution_count": 8,
      "outputs": [
        {
          "output_type": "stream",
          "name": "stdout",
          "text": [
            "['maçã', 'banana', 'laranja', 'abacate']\n"
          ]
        }
      ]
    },
    {
      "cell_type": "code",
      "source": [
        "#Identificar o tamanho de uma lista len(lista)\n",
        "\n",
        "print(len(frutas))"
      ],
      "metadata": {
        "id": "M5Hg7dl4Sqe_",
        "outputId": "611a0031-2226-4d6a-a6f2-5cb1e9a36903",
        "colab": {
          "base_uri": "https://localhost:8080/"
        }
      },
      "execution_count": 7,
      "outputs": [
        {
          "output_type": "stream",
          "name": "stdout",
          "text": [
            "6\n"
          ]
        }
      ]
    },
    {
      "cell_type": "code",
      "source": [
        "# Count() - quantas vezes um valor aparece\n",
        "frutas = ['maçã', 'banana', 'laranja', 'laranja', 'laranja', 'laranja']\n",
        "print(frutas.count('laranja'))"
      ],
      "metadata": {
        "id": "pRYrLx26TJ2I",
        "outputId": "4f7b64cc-e88d-42f5-e2ad-d73415dc4067",
        "colab": {
          "base_uri": "https://localhost:8080/"
        }
      },
      "execution_count": 6,
      "outputs": [
        {
          "output_type": "stream",
          "name": "stdout",
          "text": [
            "4\n"
          ]
        }
      ]
    },
    {
      "cell_type": "code",
      "source": [
        "#Imprimir elementos da lista pelo índice\n",
        "carros = ['gol', 'uno', 'fiesta', 'lada', 'marajó', 'voyage', 'santana']\n",
        "\n",
        "print(carros[0]) #gol\n",
        "print(carros[1]) #uno\n",
        "print(carros[2]) #fiesta\n",
        "print(carros[-1]) #santana\n",
        "print(carros[2:5]) #Slice do índice 2 ao índice 4\n",
        "print(carros[:4]) #Slice até o indice 3\n",
        "print(carros[2:]) #Slice a partir do índice 2\n",
        "#print(carros[7]) OUT OF INDEX"
      ],
      "metadata": {
        "id": "7cb8nMQcTzYQ",
        "outputId": "c6f26c48-8fdf-45d4-b6e7-8031a0c83bd9",
        "colab": {
          "base_uri": "https://localhost:8080/"
        }
      },
      "execution_count": 10,
      "outputs": [
        {
          "output_type": "stream",
          "name": "stdout",
          "text": [
            "gol\n",
            "uno\n",
            "fiesta\n",
            "santana\n",
            "['fiesta', 'lada', 'marajó']\n",
            "['gol', 'uno', 'fiesta', 'lada']\n",
            "['fiesta', 'lada', 'marajó', 'voyage', 'santana']\n"
          ]
        }
      ]
    },
    {
      "cell_type": "code",
      "source": [
        "#Adicionar elementos em uma lista\n",
        "#lista.append('elemento')\n",
        "frutas.append('goiaba')\n",
        "print(frutas)"
      ],
      "metadata": {
        "id": "5hoV5QRxWgUB",
        "outputId": "b44b21d5-8bb3-4b19-c08b-616fc2fad352",
        "colab": {
          "base_uri": "https://localhost:8080/"
        }
      },
      "execution_count": 25,
      "outputs": [
        {
          "output_type": "stream",
          "name": "stdout",
          "text": [
            "[[...], 'goiaba']\n"
          ]
        }
      ]
    },
    {
      "cell_type": "code",
      "source": [
        "#Exercício 1\n",
        "#Faça um código que pede que o usuário digite frutas e\n",
        "#Insere uma fruta na lista\n",
        "\n",
        "fruta = []\n",
        "fruta = input('Por favor insira uma fruta: ')\n",
        "frutas.append(frutas)\n",
        "print(frutas)"
      ],
      "metadata": {
        "id": "7H4axXAHW0EA",
        "outputId": "ad319ca4-fce5-490c-e7b7-0a3aad92f73f",
        "colab": {
          "base_uri": "https://localhost:8080/"
        }
      },
      "execution_count": 26,
      "outputs": [
        {
          "output_type": "stream",
          "name": "stdout",
          "text": [
            "Por favor insira uma fruta: melancia\n",
            "[[...], 'goiaba', [...]]\n"
          ]
        }
      ]
    },
    {
      "cell_type": "code",
      "source": [
        "#Exercício 2\n",
        "#Faça um laço o qual solicita ao usuário que digite\n",
        "#O nome de um carro para inseri-lo na lista.\n",
        "#Ele para quando o usuário digita o número 0.\n",
        "#Ao final, imprime a lista e o seu tamanho.\n",
        "\n",
        "carros = []\n",
        "\n",
        "carro = input('Digite o nome de um carro:')\n",
        "\n",
        "while carro != '0':\n",
        "    carros.append(carro)\n",
        "    carro = input('Digite o carro:')\n",
        "print(carros)\n",
        "print(len(carros))"
      ],
      "metadata": {
        "id": "MwPdClw9YW_g",
        "outputId": "1cddb61d-8b98-48b5-a206-d0f80e6f0b9a",
        "colab": {
          "base_uri": "https://localhost:8080/"
        }
      },
      "execution_count": 24,
      "outputs": [
        {
          "output_type": "stream",
          "name": "stdout",
          "text": [
            "Digite o nome de um carro:uno\n",
            "Digite o carro:gol\n",
            "Digite o carro:hilux\n",
            "Digite o carro:sienna\n",
            "Digite o carro:civic\n",
            "Digite o carro:0\n",
            "['uno', 'gol', 'hilux', 'sienna', 'civic']\n",
            "5\n"
          ]
        }
      ]
    },
    {
      "cell_type": "code",
      "source": [
        "carros = []\n",
        "\n",
        "while True:\n",
        "    carro = input('Digite o carro: ')\n",
        "    if carro == '0':\n",
        "      break\n",
        "    carros.append(carro)\n",
        "\n",
        "print(carros)\n",
        "print(len(carros))"
      ],
      "metadata": {
        "id": "7OAu-tMsbG6q",
        "outputId": "20f99f47-e096-4ae0-8e9d-07fc620c8472",
        "colab": {
          "base_uri": "https://localhost:8080/"
        }
      },
      "execution_count": 23,
      "outputs": [
        {
          "output_type": "stream",
          "name": "stdout",
          "text": [
            "Digite o carro: uno\n",
            "Digite o carro: gol\n",
            "Digite o carro: hilux\n",
            "Digite o carro: sienna\n",
            "Digite o carro: civic\n",
            "Digite o carro: 0\n",
            "['uno', 'gol', 'hilux', 'sienna', 'civic']\n",
            "5\n"
          ]
        }
      ]
    },
    {
      "cell_type": "code",
      "source": [
        "#Exercício 3\n",
        "#Escreva um programa Python que tem uma lista de valores, e o usuário deve digitar um número,\n",
        "#Caso ele exista na lista, ela retorna a quantidade de vezes que ela ocorre na lista,\n",
        "#Caso não exista, ela informa ao usuário \"Número não existe\".\n",
        "\n",
        "lista = [2, 4, 5, 2, 3, 7, 8, 2, 5]\n",
        "numero = int(input('Digite um número: '))\n",
        "if numero in lista:\n",
        "    print(lista.count(numero))\n",
        "else:\n",
        "    print('Número não existe')"
      ],
      "metadata": {
        "id": "HnMdr_SVbzxD",
        "outputId": "d11aacc2-4082-474c-9458-39ba99a436c4",
        "colab": {
          "base_uri": "https://localhost:8080/"
        }
      },
      "execution_count": 54,
      "outputs": [
        {
          "output_type": "stream",
          "name": "stdout",
          "text": [
            "Digite um número: 4\n",
            "1\n"
          ]
        }
      ]
    },
    {
      "cell_type": "code",
      "source": [
        "carros = ['gol', 'uno', 'fiesta', 'lada', 'marajó', 'voyage', 'santana']"
      ],
      "metadata": {
        "id": "-UWZHQI7eSkH"
      },
      "execution_count": 57,
      "outputs": []
    },
    {
      "cell_type": "code",
      "source": [
        "#pop()\n",
        "carros = ['gol', 'uno', 'fiesta', 'lada', 'marajó', 'voyage', 'santana']\n",
        "carros.pop()\n",
        "print(carros)"
      ],
      "metadata": {
        "id": "42HY8PTlegnQ",
        "outputId": "bbe48f48-7359-4836-b22c-27232704efeb",
        "colab": {
          "base_uri": "https://localhost:8080/"
        }
      },
      "execution_count": 55,
      "outputs": [
        {
          "output_type": "stream",
          "name": "stdout",
          "text": [
            "['gol', 'uno', 'fiesta', 'lada', 'marajó', 'voyage']\n"
          ]
        }
      ]
    },
    {
      "cell_type": "code",
      "source": [
        "#pop pelo índice\n",
        "lista = ['maçã', 'banana', 'laranja']\n",
        "indice = lista.index('banana') #Encontra o índice de \"banana\"\n",
        "lista.pop(indice) #Remove pelo índice\n",
        "print(lista) #Saída: ['maçã', 'laranja']"
      ],
      "metadata": {
        "id": "BOsTUwzQerxI",
        "outputId": "ebad1bb7-15a4-4f51-8b77-d5b6495a901b",
        "colab": {
          "base_uri": "https://localhost:8080/"
        }
      },
      "execution_count": 50,
      "outputs": [
        {
          "output_type": "stream",
          "name": "stdout",
          "text": [
            "['maçã', 'laranja']\n"
          ]
        }
      ]
    },
    {
      "cell_type": "code",
      "source": [
        "#del list[index]\n",
        "nums = [4, 5, 3, 2, 6, 8]\n",
        "\n",
        "del nums[3]\n",
        "print(nums)"
      ],
      "metadata": {
        "id": "tqK9OqF1frWU",
        "outputId": "e51b847d-e76f-4cdc-bdde-8cfb4ee3d751",
        "colab": {
          "base_uri": "https://localhost:8080/"
        }
      },
      "execution_count": 52,
      "outputs": [
        {
          "output_type": "stream",
          "name": "stdout",
          "text": [
            "[4, 5, 3, 6, 8]\n"
          ]
        }
      ]
    },
    {
      "cell_type": "code",
      "source": [
        "#remove() - remove a primeira ocorrência do valor especificado\n",
        "lista = ['jaca', 'melão', 'manga', 'graviola', 'jaca']\n",
        "\n",
        "lista.remove('jaca')\n",
        "print(lista)"
      ],
      "metadata": {
        "id": "ZvPSToqlgSLF",
        "outputId": "c8a3e442-9ddd-4cb3-f68c-90bf0ecf7966",
        "colab": {
          "base_uri": "https://localhost:8080/"
        }
      },
      "execution_count": 58,
      "outputs": [
        {
          "output_type": "stream",
          "name": "stdout",
          "text": [
            "['melão', 'manga', 'graviola', 'jaca']\n"
          ]
        }
      ]
    },
    {
      "cell_type": "code",
      "source": [
        "#list comprehension\n",
        "lista = ['jaca', 'melão', 'manga', 'graviola', 'jaca', 'maçã', 'banana', 'jaca']\n",
        "\n",
        "fruta_remover = 'jaca'\n",
        "\n",
        "lista = [x for x in lista if x != fruta_remover]\n",
        "\n",
        "print(lista)"
      ],
      "metadata": {
        "id": "UvziSvvRgkbe",
        "outputId": "f5e4c747-bc8c-4e57-a372-e4d031777de1",
        "colab": {
          "base_uri": "https://localhost:8080/"
        }
      },
      "execution_count": 60,
      "outputs": [
        {
          "output_type": "stream",
          "name": "stdout",
          "text": [
            "['melão', 'manga', 'graviola', 'maçã', 'banana']\n"
          ]
        }
      ]
    },
    {
      "cell_type": "code",
      "source": [
        "#na lista de notas a seguir, mantenha apenas as que\n",
        "#são maiores ou iguais a seis. use list comprehension\n",
        "notas = [6, 8, 5, 4, 7, 7, 9, 3, 6]\n",
        "\n",
        "nota_remover = 5, 4, 3\n",
        "\n",
        "notas = [x for x in notas if x >= 6]\n",
        "\n",
        "print(notas)"
      ],
      "metadata": {
        "id": "MOnouNZbhhem",
        "outputId": "16b3c53a-a053-4a4a-82ca-19747abf0dec",
        "colab": {
          "base_uri": "https://localhost:8080/"
        }
      },
      "execution_count": 67,
      "outputs": [
        {
          "output_type": "stream",
          "name": "stdout",
          "text": [
            "[6, 8, 7, 7, 9, 6]\n"
          ]
        }
      ]
    },
    {
      "cell_type": "markdown",
      "source": [
        "EXERCÍCIO\n",
        "\n",
        "Crie um programa que simula uma lista de tarefas. O programa deve exibir um menu com 4 opções:\n",
        "\n",
        "1. Adicionar tarefa\n",
        "2. Remover tarefa\n",
        "3. Listar tarefas\n",
        "4. Sair\n",
        "\n",
        "O programa deve continuar exibindo o menu até o usuário escolher a opção de sair."
      ],
      "metadata": {
        "id": "wemWG6FBjbrY"
      }
    },
    {
      "cell_type": "code",
      "source": [
        "def exibir_menu():\n",
        "  print('1. Adicionar tarefa')\n",
        "  print('2. Remover tarefa')\n",
        "  print('3. Listar tarefas')\n",
        "  print('4. Sair')\n",
        "\n",
        "while(numero != 4):\n",
        "  print('1. Adicionar tarefa')\n",
        "  print('2. Remover tarefa')\n",
        "  print('3. Listar tarefas')\n",
        "  print('4. Sair')\n",
        "\n",
        "if(numero == 1):\n",
        "  print('1. Adicionar tarefa')\n",
        "elif(numero == 2):\n",
        "  print('2. Remover tarefa')\n",
        "elif(numero == 3):\n",
        "  print('3. Listar tarefas')\n",
        "else:\n",
        "  print('4. Sair')"
      ],
      "metadata": {
        "id": "0-UpF1Vhj_iY"
      },
      "execution_count": null,
      "outputs": []
    }
  ],
  "metadata": {
    "colab": {
      "name": "Olá, este é o Colaboratory",
      "provenance": [],
      "include_colab_link": true
    },
    "kernelspec": {
      "display_name": "Python 3",
      "name": "python3"
    }
  },
  "nbformat": 4,
  "nbformat_minor": 0
}