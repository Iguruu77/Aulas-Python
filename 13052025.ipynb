{
  "cells": [
    {
      "cell_type": "markdown",
      "metadata": {
        "id": "view-in-github",
        "colab_type": "text"
      },
      "source": [
        "<a href=\"https://colab.research.google.com/github/Iguruu77/Aulas-Python/blob/main/13052025.ipynb\" target=\"_parent\"><img src=\"https://colab.research.google.com/assets/colab-badge.svg\" alt=\"Open In Colab\"/></a>"
      ]
    },
    {
      "cell_type": "markdown",
      "source": [
        "# Funções em Python"
      ],
      "metadata": {
        "id": "Onf8zkFvlenB"
      }
    },
    {
      "cell_type": "code",
      "source": [
        "def saudacao():\n",
        "  print('Olá, estou dentro da função')\n",
        "\n",
        "def somar():\n",
        "  print(5 + 8)\n",
        "\n",
        "#saudacao()\n",
        "a = somar()"
      ],
      "metadata": {
        "id": "z0WlWnumlngI",
        "outputId": "2759886b-2736-4981-8706-ac86c9398cd0",
        "colab": {
          "base_uri": "https://localhost:8080/"
        }
      },
      "execution_count": 1,
      "outputs": [
        {
          "output_type": "stream",
          "name": "stdout",
          "text": [
            "13\n"
          ]
        }
      ]
    },
    {
      "cell_type": "code",
      "source": [
        "def somar(a, b):\n",
        "  return a+b\n",
        "\n",
        "a = somar(5,6)\n",
        "print(a)"
      ],
      "metadata": {
        "id": "nZ3P6KeRloTA",
        "outputId": "79fe7b07-2c10-42dd-a145-3f196390fb5e",
        "colab": {
          "base_uri": "https://localhost:8080/"
        }
      },
      "execution_count": 3,
      "outputs": [
        {
          "output_type": "stream",
          "name": "stdout",
          "text": [
            "11\n"
          ]
        }
      ]
    },
    {
      "cell_type": "code",
      "source": [
        "def quadrado(a):\n",
        "  return a**2\n",
        "\n",
        "num = int(input('Digite um número: '))\n",
        "resultado = quadrado(num)\n",
        "print(resultado)"
      ],
      "metadata": {
        "id": "ei16_nrHo5bh",
        "outputId": "2f6b7c85-e808-470d-80c8-22219c927ae6",
        "colab": {
          "base_uri": "https://localhost:8080/"
        }
      },
      "execution_count": 5,
      "outputs": [
        {
          "output_type": "stream",
          "name": "stdout",
          "text": [
            "Digite um número: 7\n",
            "49\n"
          ]
        }
      ]
    },
    {
      "cell_type": "markdown",
      "source": [
        "# Parâmetros"
      ],
      "metadata": {
        "id": "jwMywpvgqHrh"
      }
    },
    {
      "cell_type": "code",
      "source": [
        "#Padrão (default)\n",
        "def exibir_horario_aulas(disciplina, horario=9):\n",
        "  print(f'{disciplina} - {horario} horas.')\n",
        "\n",
        "exibir_horario_aulas('Programação')\n",
        "exibir_horario_aulas('Modelagem de Software', 15)"
      ],
      "metadata": {
        "id": "XmXfDJiuqKRB",
        "outputId": "189e7c8e-d7bc-4f39-ca02-7d38a199039f",
        "colab": {
          "base_uri": "https://localhost:8080/"
        }
      },
      "execution_count": 11,
      "outputs": [
        {
          "output_type": "stream",
          "name": "stdout",
          "text": [
            "Programação - 9 horas.\n",
            "Modelagem de Software - 15 horas.\n"
          ]
        }
      ]
    },
    {
      "cell_type": "markdown",
      "source": [
        "# Argumentos posicionais X nomeados"
      ],
      "metadata": {
        "id": "LVjez2aIrNxi"
      }
    },
    {
      "cell_type": "code",
      "source": [
        "def exibir_produto(nome, preco):\n",
        "  print(f'{nome} : R${preco}')\n",
        "\n",
        "#Argumentos posicionais\n",
        "exibir_produto('doce de leite', 5.50)\n",
        "exibir_produto(65, 'Bermuda')\n",
        "\n",
        "#Argumentos nomeados\n",
        "exibir_produto(preco=100, nome='Camiseta')"
      ],
      "metadata": {
        "id": "4G355of2rRZB",
        "outputId": "ed9b6ca0-d15e-48af-e86c-60e8c7531746",
        "colab": {
          "base_uri": "https://localhost:8080/"
        }
      },
      "execution_count": 12,
      "outputs": [
        {
          "output_type": "stream",
          "name": "stdout",
          "text": [
            "doce de leite : R$5.5\n",
            "65 : R$Bermuda\n",
            "Camiseta : R$100\n"
          ]
        }
      ]
    },
    {
      "cell_type": "markdown",
      "source": [
        "# Forçar argumentos nomeados com *"
      ],
      "metadata": {
        "id": "zXsnlx8Wsi65"
      }
    },
    {
      "cell_type": "code",
      "source": [
        "def exibir_jogo(*, nome_jogo, ano_lancamento):\n",
        "  print(f'{nome_jogo}, lançado em {ano_lancamento}')\n",
        "\n",
        "#apenas um parametro deve ser nomeado\n",
        "def exibir_produto(nome,*, preco):\n",
        "  print(f'{nome} : R${preco}')\n",
        "\n",
        "exibir_jogo(nome_jogo='Mario', ano_lancamento=1985)\n",
        "exibir_produto('Alicate', preco=20)"
      ],
      "metadata": {
        "id": "_8C0-DUcsoLA",
        "outputId": "a5e41c00-5305-42f9-ae9d-e3eb1daa4591",
        "colab": {
          "base_uri": "https://localhost:8080/"
        }
      },
      "execution_count": 13,
      "outputs": [
        {
          "output_type": "stream",
          "name": "stdout",
          "text": [
            "Mario, lançado em 1985\n",
            "Alicate : R$20\n"
          ]
        }
      ]
    },
    {
      "cell_type": "markdown",
      "source": [
        "Exercício:\n",
        "\n",
        "Crie uma função chamada gerar_personagem_game que deve receber os seguintes parâmetros: nome, altura, força, arma. Esta função deve imprimir na tela apenas o que foi passado como parâmetro, seguindo as regras:\n",
        "\n",
        "* Os argumentos nome e altura devem ser posicionais;\n",
        "* Os argumentos força e arma, tem que ser obrigatoriamente nomeados;\n",
        "* Os argumento altura tem valor default de 1.75.  "
      ],
      "metadata": {
        "id": "aEXB53dRuRSS"
      }
    },
    {
      "cell_type": "code",
      "source": [
        "def gerar_personagem(nome, altura, forca, arma):\n",
        "  print(f'{nome}, com altura de {altura}, possuindo uma força de {forca} e {arma}.')\n",
        "\n",
        "gerar_personagem('Gon Freecss',1.54, forca = 200, arma='Nen do tipo amplificação')"
      ],
      "metadata": {
        "id": "Wy-GqpFgu5VJ",
        "outputId": "0ffdca79-39cc-4e1f-d2ea-f6957db640e5",
        "colab": {
          "base_uri": "https://localhost:8080/"
        }
      },
      "execution_count": 21,
      "outputs": [
        {
          "output_type": "stream",
          "name": "stdout",
          "text": [
            "Gon Freecss, com altura de 1.54, possuindo uma força de 200 e Nen do tipo amplificação.\n"
          ]
        }
      ]
    },
    {
      "cell_type": "code",
      "source": [
        "def somanotas(*args):\n",
        "  return sum(args)\n",
        "\n",
        "print(somanotas(7, 8, 3, 10, 5.5, 2, 8.5))"
      ],
      "metadata": {
        "id": "93K7C23fxOp9",
        "outputId": "f8b46de5-9307-42b2-840e-774e7b3185c0",
        "colab": {
          "base_uri": "https://localhost:8080/"
        }
      },
      "execution_count": 22,
      "outputs": [
        {
          "output_type": "stream",
          "name": "stdout",
          "text": [
            "44.0\n"
          ]
        }
      ]
    },
    {
      "cell_type": "code",
      "source": [
        "def somar_nums(*valores, a):\n",
        "  print(valores)\n",
        "  for valor in valores:\n",
        "   a += valor\n",
        "print(a)\n",
        "\n",
        "somar_nums(5, 6, 9, 10, a=10)"
      ],
      "metadata": {
        "id": "bo_NcKjMx_LS",
        "outputId": "9e442484-c0fc-45e1-82d1-970c807a2dba",
        "colab": {
          "base_uri": "https://localhost:8080/"
        }
      },
      "execution_count": 25,
      "outputs": [
        {
          "output_type": "stream",
          "name": "stdout",
          "text": [
            "11\n",
            "(5, 6, 9, 10)\n"
          ]
        }
      ]
    },
    {
      "cell_type": "code",
      "source": [
        "def concatenar(**palavras):\n",
        "  frase = ''\n",
        "  for palavra in palavras.values():\n",
        "    frase += palavra\n",
        "  print(frase)\n",
        "\n",
        "concatenar(a='Eu ', b='é ', c='Hequer ')"
      ],
      "metadata": {
        "id": "9d2iCPwQzse-",
        "outputId": "cbff5152-5465-4d8a-dd89-d44a40612eab",
        "colab": {
          "base_uri": "https://localhost:8080/"
        }
      },
      "execution_count": 27,
      "outputs": [
        {
          "output_type": "stream",
          "name": "stdout",
          "text": [
            "Eu é Hequer \n"
          ]
        }
      ]
    },
    {
      "cell_type": "code",
      "source": [
        "def calcula(nome, *args, **kwargs):\n",
        "  print(nome)\n",
        "  print(args)\n",
        "  print(kwargs)\n",
        "  for arg in args:\n",
        "    print(arg)\n",
        "  for kwarg in kwargs.values():\n",
        "    print(kwarg)\n",
        "\n",
        "calcula('José', 5, 6, 72, 1, a=4, b=6, c=8)"
      ],
      "metadata": {
        "id": "aUQYgpBf0LgP",
        "outputId": "d8979387-ad82-43df-8253-d6ce0549096a",
        "colab": {
          "base_uri": "https://localhost:8080/"
        }
      },
      "execution_count": 28,
      "outputs": [
        {
          "output_type": "stream",
          "name": "stdout",
          "text": [
            "José\n",
            "(5, 6, 72, 1)\n",
            "{'a': 4, 'b': 6, 'c': 8}\n",
            "5\n",
            "6\n",
            "72\n",
            "1\n",
            "4\n",
            "6\n",
            "8\n"
          ]
        }
      ]
    },
    {
      "cell_type": "markdown",
      "source": [
        "Exercício\n",
        "\n",
        "1. Crie uma função chamada somar_valores que aceite qualquer quantidade de números via *args e retorne a soma todos.\n",
        "2. Cria uma função exibir_perfil que receba um nome fixo, dados variados com args (ex: hobbies, interesses) e informações nomeadas com *kwargs (ex: idade, cidade). A função deve imprimir tudo de forma organizada.\n",
        "3. Crie uma função chamada multiplica_todos que aceita qualquer quantidade de números via *args e retorna o resultado da multiplicação entre eles.\n",
        "4. Crie uma função chamada configurar_sistema que aceite qualquer quantidade de configurações via **kwargs. A função deve imprimir cada chave e valor no formato:\n",
        "[configuração] => [valor]"
      ],
      "metadata": {
        "id": "fgqvwVLe1j23"
      }
    },
    {
      "cell_type": "markdown",
      "source": [
        "QUESTÃO 1)"
      ],
      "metadata": {
        "id": "KRo_1ff83lnN"
      }
    },
    {
      "cell_type": "code",
      "source": [
        "def somar_valores(*args):\n",
        "  return sum(args)\n",
        "\n",
        "print(somar_valores(5, 10, 15, 20, 25, 30))"
      ],
      "metadata": {
        "id": "J48Rad9w2jCU",
        "outputId": "2de429cb-edf8-4c8e-ac6c-6fb4cd2ef827",
        "colab": {
          "base_uri": "https://localhost:8080/"
        }
      },
      "execution_count": 29,
      "outputs": [
        {
          "output_type": "stream",
          "name": "stdout",
          "text": [
            "105\n"
          ]
        }
      ]
    },
    {
      "cell_type": "markdown",
      "source": [
        "QUESTÃO 2)"
      ],
      "metadata": {
        "id": "iC3iklg93pXt"
      }
    },
    {
      "cell_type": "code",
      "source": [
        "def exibir_perfil(nome, idade, cidade, hobbies, interesses, *args, **kwargs):\n",
        "\n",
        "  print(nome)\n",
        "  print(idade)\n",
        "  print(cidade)\n",
        "  print(hobbies)\n",
        "  print(interesses)\n",
        "  print(args)\n",
        "  print(kwargs)\n",
        "\n",
        "for arg in args:\n",
        "  print(arg)\n",
        "for kwarg in kwargs.values():\n",
        "  print(kwarg)\n",
        "\n",
        "exibir_perfil(nome='Chrollo', idade=26, cidade='Cidade Meteoro', hobbies='Caçador', interesses='Livros Antigos')"
      ],
      "metadata": {
        "id": "Dg8l0PXk3lae"
      },
      "execution_count": null,
      "outputs": []
    },
    {
      "cell_type": "markdown",
      "source": [
        "# Datetime"
      ],
      "metadata": {
        "id": "3APOSZxy7mp8"
      }
    },
    {
      "cell_type": "code",
      "source": [
        "from datetime import date, datetime\n",
        "\n",
        "data_atual = date.today()\n",
        "datahora_atual = datetime.now()\n",
        "print(data_atual)\n",
        "print(datahora_atual)"
      ],
      "metadata": {
        "id": "Az6MRW7i6960",
        "outputId": "b04c309f-c64a-4c9f-8854-b64022fcd940",
        "colab": {
          "base_uri": "https://localhost:8080/"
        }
      },
      "execution_count": 45,
      "outputs": [
        {
          "output_type": "stream",
          "name": "stdout",
          "text": [
            "2025-05-13\n",
            "2025-05-13 13:57:09.689786\n"
          ]
        }
      ]
    },
    {
      "cell_type": "code",
      "source": [
        "#Data formatada\n",
        "data_formatada = data_atual.strftime(\"%d/%m/%Y\")\n",
        "data_completa = datahora_atual.strftime(\"%d/%m/Y% %H:%M:%S\")\n",
        "print(data_formatada)\n",
        "print(data_completa)"
      ],
      "metadata": {
        "id": "wYCsldQj8abt",
        "outputId": "f84b23b0-c169-4f97-a07b-d7b33d7627fa",
        "colab": {
          "base_uri": "https://localhost:8080/"
        }
      },
      "execution_count": 46,
      "outputs": [
        {
          "output_type": "stream",
          "name": "stdout",
          "text": [
            "13/05/2025\n",
            "13/05/Y% 13:57:09\n"
          ]
        }
      ]
    }
  ],
  "metadata": {
    "colab": {
      "name": "Conheça o Colab",
      "provenance": [],
      "include_colab_link": true
    },
    "kernelspec": {
      "display_name": "Python 3",
      "name": "python3"
    }
  },
  "nbformat": 4,
  "nbformat_minor": 0
}